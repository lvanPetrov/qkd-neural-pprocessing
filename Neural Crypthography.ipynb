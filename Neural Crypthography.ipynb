{
 "cells": [
  {
   "cell_type": "code",
   "execution_count": 110,
   "metadata": {
    "colab": {},
    "colab_type": "code",
    "id": "-YZRC-GmG6MW"
   },
   "outputs": [],
   "source": [
    "import numpy as np\n",
    "\n",
    "class Neuron:\n",
    "\n",
    "    def __init__(self, number_of_inputs, l, activation_function = lambda x: np.sign(x)):\n",
    "        self.input = np.zeros(number_of_inputs)\n",
    "        self.l = l\n",
    "        self.weights = np.zeros(number_of_inputs, dtype = 'int')\n",
    "        self.activation_function = activation_function\n",
    "        \n",
    "    def calculate_output(self, neuron_input):\n",
    "        self.input = neuron_input\n",
    "        self.output = self.activation_function(np.sum(neuron_input[i]*self.weights[i] for i in range(len(self.weights))))\n",
    "        return self.output\n",
    "    \n",
    "    def teta_function(self, sigma, tay):\n",
    "        return 0 if sigma != tay else 1 #!\n",
    "    \n",
    "    def norm_function(self, z):\n",
    "        if z <= - self.l: return - self.l\n",
    "        elif z >= self.l: return self.l\n",
    "        else:             return z\n",
    "    \n",
    "    def update_weights(self, tay):\n",
    "        for i in range(len(self.weights)):\n",
    "            self.weights[i] = self.norm_function(self.weights[i] +\n",
    "                                                 int(self.input[i]*self.output*self.teta_function(self.output, tay)))\n",
    "    \n",
    "class TPM:\n",
    "\n",
    "    def __init__(self, l, k, n):\n",
    "        self.l = l\n",
    "        self.k = k\n",
    "        self.n = n\n",
    "        self.hidden_layer = [Neuron(n, l) for i in range(k)]\n",
    "    \n",
    "    def weights_initialization(self, init_weights):\n",
    "        for i in range(self.k):\n",
    "            self.hidden_layer[i].weights = init_weights[self.n*i:self.n*(i + 1)]#self.hashf(init_weights[self.n*i:self.n*(i + 1) - 1], i) \n",
    "    \n",
    "    def get_weights(self):\n",
    "        answer = []\n",
    "        for i in range(self.k):\n",
    "            answer.append(self.hidden_layer[i].weights)\n",
    "        return np.reshape(answer, self.k*self.n)\n",
    "        \n",
    "    def __repr__(self):\n",
    "        return 'TPM consists of ' + str(self.k) + ' neurons in hidden layer with ' + str(self.n) + ' inputs in each. ' + \\\n",
    "                'Weights of neurons are following: ' + str([str(self.hidden_layer[i].weights) for i in range(self.k)])\n",
    "\n",
    "        \n",
    "    def calculate_output(self, TPM_input):\n",
    "        self.output = np.prod(list(self.hidden_layer[i].calculate_output(TPM_input[self.n*i:self.n*(i + 1)]) for i in range(self.k)))\n",
    "        return self.output\n",
    "    \n",
    "    def update(self):\n",
    "        for i in range(self.k):\n",
    "            self.hidden_layer[i].update_weights(self.output)"
   ]
  },
  {
   "cell_type": "markdown",
   "metadata": {
    "colab_type": "text",
    "id": "x4bEQASyG6Mb"
   },
   "source": [
    "## Encoding each decimal number into triplet for L = 2"
   ]
  },
  {
   "cell_type": "code",
   "execution_count": 111,
   "metadata": {
    "colab": {},
    "colab_type": "code",
    "id": "Ej3O-FDRG6Mc"
   },
   "outputs": [],
   "source": [
    "itt = 0\n",
    "encode = {}\n",
    "for i in range(-2, 3):\n",
    "    for j in range(-2, 3):\n",
    "        for k in range(-2, 3):\n",
    "            encode[str(itt)] = [i, j, k]\n",
    "            itt += 1\n",
    "while (itt < 2**7):\n",
    "    encode[str(itt)] = [i, j, k]\n",
    "    itt += 1"
   ]
  },
  {
   "cell_type": "code",
   "execution_count": 112,
   "metadata": {
    "colab": {
     "base_uri": "https://localhost:8080/",
     "height": 1000
    },
    "colab_type": "code",
    "executionInfo": {
     "elapsed": 1432,
     "status": "ok",
     "timestamp": 1576233900025,
     "user": {
      "displayName": "Иван Витальевич Петров",
      "photoUrl": "",
      "userId": "10527810411411562961"
     },
     "user_tz": -180
    },
    "id": "cXIRYj9-G6Mf",
    "outputId": "59bc5f41-cf12-4dc9-b309-70bbd5a22017",
    "scrolled": true
   },
   "outputs": [
    {
     "data": {
      "text/plain": [
       "{'0': [-2, -2, -2],\n",
       " '1': [-2, -2, -1],\n",
       " '2': [-2, -2, 0],\n",
       " '3': [-2, -2, 1],\n",
       " '4': [-2, -2, 2],\n",
       " '5': [-2, -1, -2],\n",
       " '6': [-2, -1, -1],\n",
       " '7': [-2, -1, 0],\n",
       " '8': [-2, -1, 1],\n",
       " '9': [-2, -1, 2],\n",
       " '10': [-2, 0, -2],\n",
       " '11': [-2, 0, -1],\n",
       " '12': [-2, 0, 0],\n",
       " '13': [-2, 0, 1],\n",
       " '14': [-2, 0, 2],\n",
       " '15': [-2, 1, -2],\n",
       " '16': [-2, 1, -1],\n",
       " '17': [-2, 1, 0],\n",
       " '18': [-2, 1, 1],\n",
       " '19': [-2, 1, 2],\n",
       " '20': [-2, 2, -2],\n",
       " '21': [-2, 2, -1],\n",
       " '22': [-2, 2, 0],\n",
       " '23': [-2, 2, 1],\n",
       " '24': [-2, 2, 2],\n",
       " '25': [-1, -2, -2],\n",
       " '26': [-1, -2, -1],\n",
       " '27': [-1, -2, 0],\n",
       " '28': [-1, -2, 1],\n",
       " '29': [-1, -2, 2],\n",
       " '30': [-1, -1, -2],\n",
       " '31': [-1, -1, -1],\n",
       " '32': [-1, -1, 0],\n",
       " '33': [-1, -1, 1],\n",
       " '34': [-1, -1, 2],\n",
       " '35': [-1, 0, -2],\n",
       " '36': [-1, 0, -1],\n",
       " '37': [-1, 0, 0],\n",
       " '38': [-1, 0, 1],\n",
       " '39': [-1, 0, 2],\n",
       " '40': [-1, 1, -2],\n",
       " '41': [-1, 1, -1],\n",
       " '42': [-1, 1, 0],\n",
       " '43': [-1, 1, 1],\n",
       " '44': [-1, 1, 2],\n",
       " '45': [-1, 2, -2],\n",
       " '46': [-1, 2, -1],\n",
       " '47': [-1, 2, 0],\n",
       " '48': [-1, 2, 1],\n",
       " '49': [-1, 2, 2],\n",
       " '50': [0, -2, -2],\n",
       " '51': [0, -2, -1],\n",
       " '52': [0, -2, 0],\n",
       " '53': [0, -2, 1],\n",
       " '54': [0, -2, 2],\n",
       " '55': [0, -1, -2],\n",
       " '56': [0, -1, -1],\n",
       " '57': [0, -1, 0],\n",
       " '58': [0, -1, 1],\n",
       " '59': [0, -1, 2],\n",
       " '60': [0, 0, -2],\n",
       " '61': [0, 0, -1],\n",
       " '62': [0, 0, 0],\n",
       " '63': [0, 0, 1],\n",
       " '64': [0, 0, 2],\n",
       " '65': [0, 1, -2],\n",
       " '66': [0, 1, -1],\n",
       " '67': [0, 1, 0],\n",
       " '68': [0, 1, 1],\n",
       " '69': [0, 1, 2],\n",
       " '70': [0, 2, -2],\n",
       " '71': [0, 2, -1],\n",
       " '72': [0, 2, 0],\n",
       " '73': [0, 2, 1],\n",
       " '74': [0, 2, 2],\n",
       " '75': [1, -2, -2],\n",
       " '76': [1, -2, -1],\n",
       " '77': [1, -2, 0],\n",
       " '78': [1, -2, 1],\n",
       " '79': [1, -2, 2],\n",
       " '80': [1, -1, -2],\n",
       " '81': [1, -1, -1],\n",
       " '82': [1, -1, 0],\n",
       " '83': [1, -1, 1],\n",
       " '84': [1, -1, 2],\n",
       " '85': [1, 0, -2],\n",
       " '86': [1, 0, -1],\n",
       " '87': [1, 0, 0],\n",
       " '88': [1, 0, 1],\n",
       " '89': [1, 0, 2],\n",
       " '90': [1, 1, -2],\n",
       " '91': [1, 1, -1],\n",
       " '92': [1, 1, 0],\n",
       " '93': [1, 1, 1],\n",
       " '94': [1, 1, 2],\n",
       " '95': [1, 2, -2],\n",
       " '96': [1, 2, -1],\n",
       " '97': [1, 2, 0],\n",
       " '98': [1, 2, 1],\n",
       " '99': [1, 2, 2],\n",
       " '100': [2, -2, -2],\n",
       " '101': [2, -2, -1],\n",
       " '102': [2, -2, 0],\n",
       " '103': [2, -2, 1],\n",
       " '104': [2, -2, 2],\n",
       " '105': [2, -1, -2],\n",
       " '106': [2, -1, -1],\n",
       " '107': [2, -1, 0],\n",
       " '108': [2, -1, 1],\n",
       " '109': [2, -1, 2],\n",
       " '110': [2, 0, -2],\n",
       " '111': [2, 0, -1],\n",
       " '112': [2, 0, 0],\n",
       " '113': [2, 0, 1],\n",
       " '114': [2, 0, 2],\n",
       " '115': [2, 1, -2],\n",
       " '116': [2, 1, -1],\n",
       " '117': [2, 1, 0],\n",
       " '118': [2, 1, 1],\n",
       " '119': [2, 1, 2],\n",
       " '120': [2, 2, -2],\n",
       " '121': [2, 2, -1],\n",
       " '122': [2, 2, 0],\n",
       " '123': [2, 2, 1],\n",
       " '124': [2, 2, 2],\n",
       " '125': [2, 2, 2],\n",
       " '126': [2, 2, 2],\n",
       " '127': [2, 2, 2]}"
      ]
     },
     "execution_count": 112,
     "metadata": {},
     "output_type": "execute_result"
    }
   ],
   "source": [
    "encode"
   ]
  },
  {
   "cell_type": "markdown",
   "metadata": {},
   "source": [
    "## Generate Alice and Bob keys"
   ]
  },
  {
   "cell_type": "code",
   "execution_count": 125,
   "metadata": {
    "colab": {},
    "colab_type": "code",
    "id": "POegj3ma8TlT"
   },
   "outputs": [],
   "source": [
    "import random\n",
    "import string\n",
    "\n",
    "order = 6\n",
    "\n",
    "fa = open(\"AliceKey.bin\", \"wb\")\n",
    "fb = open(\"BobKey.bin\", \"wb\")\n",
    "    \n",
    "for i in range(10**order):\n",
    "    symbol = random.choice(string.printable)\n",
    "    fa.write( str(symbol).encode('ascii') )\n",
    "    shift = random.randint(-1, 1)\n",
    "    fb.write( str( chr(ord(symbol) + shift)).encode('ascii') ) "
   ]
  },
  {
   "cell_type": "markdown",
   "metadata": {
    "colab_type": "text",
    "id": "Kj6yPAslG6Mj"
   },
   "source": [
    "## Read keys from files and encode them"
   ]
  },
  {
   "cell_type": "code",
   "execution_count": 126,
   "metadata": {
    "colab": {},
    "colab_type": "code",
    "id": "UwGmYZNfG6Mk",
    "scrolled": true
   },
   "outputs": [],
   "source": [
    "AliceKeyFile = []\n",
    "AliceString = ''\n",
    "with open(\"AliceKey.bin\", \"rb\") as f:\n",
    "    byte = f.read(1)\n",
    "    while byte != b'':\n",
    "        #print(byte)\n",
    "        AliceString = AliceString + bin(ord(byte))[2:].zfill(8)\n",
    "        while len(AliceString) > 7:\n",
    "            for i in range(3):\n",
    "                AliceKeyFile.append(encode[str(int(AliceString[:7], 2))][i])\n",
    "            #print( encode[int(AliceString[:7], 2)] )\n",
    "            AliceString = AliceString[7:]\n",
    "            #print(len(AliceString))\n",
    "        #AliceKeyFile.append(int(ord(byte)))\n",
    "        byte = f.read(1)"
   ]
  },
  {
   "cell_type": "code",
   "execution_count": 127,
   "metadata": {
    "colab": {},
    "colab_type": "code",
    "id": "d3ngrA0jG6Mn",
    "outputId": "59ca6406-ff8e-49c3-a0cd-a917ccd87e27"
   },
   "outputs": [
    {
     "data": {
      "text/plain": [
       "int"
      ]
     },
     "execution_count": 127,
     "metadata": {},
     "output_type": "execute_result"
    }
   ],
   "source": [
    "type(AliceKeyFile[0])"
   ]
  },
  {
   "cell_type": "code",
   "execution_count": 128,
   "metadata": {
    "colab": {},
    "colab_type": "code",
    "id": "m-bp39uoG6Mq",
    "outputId": "43439b10-18a2-4748-c151-bc3e30cef43a"
   },
   "outputs": [
    {
     "data": {
      "text/plain": [
       "34284"
      ]
     },
     "execution_count": 128,
     "metadata": {},
     "output_type": "execute_result"
    }
   ],
   "source": [
    "len(AliceKeyFile)"
   ]
  },
  {
   "cell_type": "code",
   "execution_count": 129,
   "metadata": {},
   "outputs": [],
   "source": [
    "#print(AliceKeyFile)"
   ]
  },
  {
   "cell_type": "code",
   "execution_count": 130,
   "metadata": {
    "colab": {},
    "colab_type": "code",
    "id": "T6Z2R4qzG6Ms"
   },
   "outputs": [],
   "source": [
    "BobKeyFile = []\n",
    "BobString = ''\n",
    "with open(\"BobKey.bin\", \"rb\") as f:\n",
    "    byte = f.read(1)\n",
    "    while byte != b'':\n",
    "        BobString = BobString + bin(ord(byte))[2:].zfill(8)\n",
    "        while len(BobString) > 7:\n",
    "            for i in range(3):\n",
    "                BobKeyFile.append(encode[str(int(BobString[:7], 2))][i])\n",
    "            #print(int(AliceKeyString[:7], 2))\n",
    "            BobString = BobString[7:]\n",
    "            #print(len(AliceString))\n",
    "        #AliceKeyFile.append(int(ord(byte)))\n",
    "        byte = f.read(1)"
   ]
  },
  {
   "cell_type": "code",
   "execution_count": 131,
   "metadata": {
    "colab": {},
    "colab_type": "code",
    "id": "65lK3aRKG6Mv",
    "outputId": "96a4bf1e-8e52-4584-baf7-1291c19399c5"
   },
   "outputs": [
    {
     "data": {
      "text/plain": [
       "34284"
      ]
     },
     "execution_count": 131,
     "metadata": {},
     "output_type": "execute_result"
    }
   ],
   "source": [
    "len(BobKeyFile)"
   ]
  },
  {
   "cell_type": "markdown",
   "metadata": {
    "colab_type": "text",
    "id": "Eneh24vJG6My"
   },
   "source": [
    "## Function that counts difference between to arrays of numbers"
   ]
  },
  {
   "cell_type": "code",
   "execution_count": 132,
   "metadata": {
    "colab": {},
    "colab_type": "code",
    "id": "1Z5JKxDfG6My",
    "outputId": "2ddc956a-339b-4471-b0ae-383a78133728"
   },
   "outputs": [
    {
     "data": {
      "text/plain": [
       "0.44840158674600394"
      ]
     },
     "execution_count": 132,
     "metadata": {},
     "output_type": "execute_result"
    }
   ],
   "source": [
    "n = 30000\n",
    "k = 3\n",
    "def count_diff(arr1, arr2):\n",
    "    count = 0\n",
    "    for i in range(len(arr1)):\n",
    "        if arr1[i] != arr2[i]:\n",
    "            count += 1\n",
    "    return 1.0*count/len(arr1)\n",
    "count_diff(AliceKeyFile[:n*k], BobKeyFile[:n*k])"
   ]
  },
  {
   "cell_type": "markdown",
   "metadata": {
    "colab_type": "text",
    "id": "XP-nZ7hwG6M3"
   },
   "source": [
    "## One TPM run"
   ]
  },
  {
   "cell_type": "code",
   "execution_count": 133,
   "metadata": {
    "colab": {},
    "colab_type": "code",
    "id": "VeRKXlGtG6M4",
    "outputId": "8f265b8a-1721-4b8d-ae18-415f12861b56",
    "scrolled": true
   },
   "outputs": [
    {
     "name": "stderr",
     "output_type": "stream",
     "text": [
      "/home/ivan/anaconda3/lib/python3.7/site-packages/ipykernel_launcher.py:13: DeprecationWarning: Calling np.sum(generator) is deprecated, and in the future will give a different result. Use np.sum(np.fromiter(generator)) or the python sum builtin instead.\n",
      "  del sys.path[0]\n",
      "[========================================================================] 100%\r"
     ]
    },
    {
     "name": "stdout",
     "output_type": "stream",
     "text": [
      "0.15930397415161132\n"
     ]
    },
    {
     "name": "stderr",
     "output_type": "stream",
     "text": [
      "\n"
     ]
    }
   ],
   "source": [
    "import random\n",
    "l = 3\n",
    "k = 2\n",
    "n = 10000#int(len(AliceKey)/3)\n",
    "\n",
    "AliceKey = AliceKeyFile[:n*k]#[:3*int(len(AliceKey)/3)]\n",
    "BobKey = BobKeyFile[:n*k]#[:3*int(len(AliceKey)/3)]\n",
    "#for i in range(n*k):\n",
    "    #AliceKey[i] = -3 + AliceKey[i] % 7\n",
    "    #BobKey[i] = -3 + BobKey[i] % 7\n",
    "\n",
    "Alice_TPM = TPM(l, k, n)\n",
    "Bob_TPM = TPM(l, k, n)\n",
    "#AliceKey = [250, 53, 250, 50, 50, 120, 1, 233, 245, 20, 9, 44, 243, 0, 77]\n",
    "#BobKey = [215, 153, 222, 23, 48, 9, 128, 31, 14, 22, 0, 202, 105, 201, 224]\n",
    "        \n",
    "\n",
    "\n",
    "import progressbar\n",
    "from time import sleep, time\n",
    "bar = progressbar.ProgressBar(maxval=6000, widgets=[progressbar.Bar('=', '[', ']'), ' ', progressbar.Percentage()])\n",
    "bar.start()\n",
    "timing = []\n",
    "synchr_itt = []\n",
    "\n",
    "Alice_TPM.weights_initialization(AliceKey)\n",
    "Bob_TPM.weights_initialization(BobKey)\n",
    "difference = [count_diff(AliceKey, BobKey)]\n",
    "steps = [0]\n",
    "    \n",
    "for i in range(1000):\n",
    "    start_time = time()\n",
    "    input_random = np.zeros(n*k)\n",
    "    for x in range(n*k):\n",
    "        z = random.randrange(-1, 1)\n",
    "        if z == 0: z = 1\n",
    "        input_random[x] = z\n",
    "    Alice_TPM.calculate_output(input_random)\n",
    "    Bob_TPM.calculate_output(input_random)\n",
    "    if Alice_TPM.output == Bob_TPM.output:\n",
    "        Alice_TPM.update()\n",
    "        Bob_TPM.update()\n",
    "    steps.append(i)\n",
    "    c_diff = count_diff(Alice_TPM.get_weights(), Bob_TPM.get_weights())\n",
    "    difference.append(c_diff)\n",
    "    stop_time = time()\n",
    "    timing.append(stop_time - start_time)\n",
    "    bar.update(i + 1)\n",
    "\n",
    "\n",
    "bar.finish()\n",
    "print(np.mean(timing))\n"
   ]
  },
  {
   "cell_type": "code",
   "execution_count": 134,
   "metadata": {
    "colab": {},
    "colab_type": "code",
    "id": "7IwiEbipG6M7",
    "outputId": "2d067af2-fbde-4500-ab46-14b3365214d8"
   },
   "outputs": [
    {
     "data": {
      "text/plain": [
       "[<matplotlib.lines.Line2D at 0x7f8341258240>]"
      ]
     },
     "execution_count": 134,
     "metadata": {},
     "output_type": "execute_result"
    },
    {
     "data": {
      "image/png": "[encoded data removed]",
      "text/plain": [
       "<Figure size 432x288 with 1 Axes>"
      ]
     },
     "metadata": {
      "needs_background": "light"
     },
     "output_type": "display_data"
    }
   ],
   "source": [
    "import matplotlib.pyplot as plt\n",
    "%matplotlib inline  \n",
    "#plt.ylim((0, 0.8))\n",
    "plt.ylabel('Error, %')\n",
    "plt.xlabel('iteration')\n",
    "plt.plot(steps[:1000], difference[:1000])"
   ]
  },
  {
   "cell_type": "code",
   "execution_count": 135,
   "metadata": {
    "colab": {},
    "colab_type": "code",
    "id": "tLhPwCkyG6M9",
    "outputId": "a8ca3b5a-842b-4f05-f904-31adc5cd7f83"
   },
   "outputs": [
    {
     "data": {
      "text/plain": [
       "[-1,\n",
       " -2,\n",
       " -1,\n",
       " 0,\n",
       " 2,\n",
       " 0,\n",
       " 1,\n",
       " -2,\n",
       " 0,\n",
       " -2,\n",
       " 2,\n",
       " -2,\n",
       " -1,\n",
       " -2,\n",
       " -1,\n",
       " 1,\n",
       " 1,\n",
       " 1,\n",
       " 1,\n",
       " -1,\n",
       " -2,\n",
       " 0,\n",
       " 0,\n",
       " 1,\n",
       " -2,\n",
       " 2,\n",
       " -1,\n",
       " 1,\n",
       " 0,\n",
       " 1,\n",
       " 0,\n",
       " 2,\n",
       " 2,\n",
       " -2,\n",
       " -1,\n",
       " 0,\n",
       " -2,\n",
       " -1,\n",
       " 2,\n",
       " -1,\n",
       " 2,\n",
       " -2,\n",
       " -1,\n",
       " -1,\n",
       " 2,\n",
       " 1,\n",
       " 2,\n",
       " -2,\n",
       " -2,\n",
       " 2,\n",
       " -1,\n",
       " 1,\n",
       " -1,\n",
       " 2,\n",
       " 0,\n",
       " 2,\n",
       " 1,\n",
       " -2,\n",
       " -2,\n",
       " 1,\n",
       " -2,\n",
       " -2,\n",
       " -1,\n",
       " 2,\n",
       " -2,\n",
       " -2,\n",
       " 2,\n",
       " 2,\n",
       " 2,\n",
       " 0,\n",
       " 0,\n",
       " 0,\n",
       " 0,\n",
       " 0,\n",
       " -2,\n",
       " -2,\n",
       " -1,\n",
       " 1,\n",
       " -2,\n",
       " -1,\n",
       " -1,\n",
       " -1,\n",
       " 0,\n",
       " 1,\n",
       " 2,\n",
       " -1,\n",
       " -2,\n",
       " 2,\n",
       " 1,\n",
       " 0,\n",
       " -1,\n",
       " -1,\n",
       " -2,\n",
       " 0,\n",
       " 2,\n",
       " -2,\n",
       " 0,\n",
       " -1,\n",
       " -1,\n",
       " -2,\n",
       " 1,\n",
       " 0,\n",
       " 1,\n",
       " -2,\n",
       " -2,\n",
       " -1,\n",
       " 0,\n",
       " -1,\n",
       " -2,\n",
       " -2,\n",
       " -2,\n",
       " -1,\n",
       " 0,\n",
       " -1,\n",
       " 2,\n",
       " 1,\n",
       " -1,\n",
       " 2,\n",
       " 1,\n",
       " 2,\n",
       " 0,\n",
       " 0,\n",
       " -2,\n",
       " 0,\n",
       " 2,\n",
       " 2,\n",
       " 0,\n",
       " 2,\n",
       " -1,\n",
       " 2,\n",
       " -2,\n",
       " -1,\n",
       " 0,\n",
       " 0,\n",
       " 2,\n",
       " -1,\n",
       " 1,\n",
       " -2,\n",
       " 1,\n",
       " -1,\n",
       " -2,\n",
       " -2,\n",
       " -1,\n",
       " 2,\n",
       " 0,\n",
       " -1,\n",
       " 0,\n",
       " 1,\n",
       " -2,\n",
       " 2,\n",
       " 0,\n",
       " 2,\n",
       " 1,\n",
       " 0,\n",
       " 1,\n",
       " 2,\n",
       " 2,\n",
       " 1,\n",
       " -2,\n",
       " -2,\n",
       " -2,\n",
       " -2,\n",
       " 1,\n",
       " 2,\n",
       " 1,\n",
       " -1,\n",
       " 0,\n",
       " 2,\n",
       " -1,\n",
       " -1,\n",
       " 0,\n",
       " -1,\n",
       " -2,\n",
       " 2,\n",
       " -1,\n",
       " 0,\n",
       " -1,\n",
       " -2,\n",
       " -2,\n",
       " 0,\n",
       " 2,\n",
       " 2,\n",
       " 1,\n",
       " -1,\n",
       " -2,\n",
       " 2,\n",
       " -2,\n",
       " 2,\n",
       " 2,\n",
       " 0,\n",
       " 1,\n",
       " -2,\n",
       " -1,\n",
       " -2,\n",
       " -2,\n",
       " -2,\n",
       " 2,\n",
       " -1,\n",
       " -2,\n",
       " 0,\n",
       " 2,\n",
       " -2,\n",
       " 1,\n",
       " 2,\n",
       " -2,\n",
       " 1,\n",
       " 0,\n",
       " 1,\n",
       " -2,\n",
       " 0,\n",
       " -2,\n",
       " 2,\n",
       " 2,\n",
       " -1,\n",
       " 2,\n",
       " 2,\n",
       " 0,\n",
       " -2,\n",
       " -1,\n",
       " 1,\n",
       " -2,\n",
       " 2,\n",
       " 1,\n",
       " -2,\n",
       " -1,\n",
       " -2,\n",
       " -1,\n",
       " -1,\n",
       " 1,\n",
       " -2,\n",
       " -2,\n",
       " 2,\n",
       " 0,\n",
       " 1,\n",
       " -1,\n",
       " -1,\n",
       " 0,\n",
       " 1,\n",
       " 2,\n",
       " 2,\n",
       " -1,\n",
       " 1,\n",
       " 2,\n",
       " 1,\n",
       " -1,\n",
       " 0,\n",
       " -2,\n",
       " -1,\n",
       " 1,\n",
       " 1,\n",
       " -1,\n",
       " 0,\n",
       " 1,\n",
       " 2,\n",
       " 2,\n",
       " 2,\n",
       " -1,\n",
       " 2,\n",
       " 1,\n",
       " -2,\n",
       " -1,\n",
       " -1,\n",
       " 2,\n",
       " 1,\n",
       " -2,\n",
       " 2,\n",
       " 1,\n",
       " 1,\n",
       " -2,\n",
       " -2,\n",
       " 1,\n",
       " -2,\n",
       " 2,\n",
       " 0,\n",
       " -2,\n",
       " 1,\n",
       " -1,\n",
       " 1,\n",
       " -1,\n",
       " 2,\n",
       " -1,\n",
       " -2,\n",
       " 2,\n",
       " -2,\n",
       " 2,\n",
       " 1,\n",
       " -1,\n",
       " 0,\n",
       " -1,\n",
       " 2,\n",
       " 2,\n",
       " 0,\n",
       " 1,\n",
       " 0,\n",
       " -1,\n",
       " 2,\n",
       " -1,\n",
       " 1,\n",
       " -1,\n",
       " 0,\n",
       " -2,\n",
       " -2,\n",
       " 0,\n",
       " 2,\n",
       " 1,\n",
       " -1,\n",
       " 2,\n",
       " -1,\n",
       " -1,\n",
       " 2,\n",
       " 1,\n",
       " 0,\n",
       " -1,\n",
       " 0,\n",
       " -1,\n",
       " 1,\n",
       " -1,\n",
       " 0,\n",
       " -1,\n",
       " 2,\n",
       " -2,\n",
       " -2,\n",
       " 1,\n",
       " 2,\n",
       " 2,\n",
       " -1,\n",
       " -1,\n",
       " 2,\n",
       " 2,\n",
       " -1,\n",
       " 2,\n",
       " 0,\n",
       " 0,\n",
       " -1,\n",
       " -1,\n",
       " 2,\n",
       " -2,\n",
       " 1,\n",
       " 2,\n",
       " 1,\n",
       " -1,\n",
       " -2,\n",
       " 2,\n",
       " -1,\n",
       " 1,\n",
       " 0,\n",
       " -2,\n",
       " -1,\n",
       " -2,\n",
       " 1,\n",
       " 2,\n",
       " -2,\n",
       " -1,\n",
       " -2,\n",
       " 1,\n",
       " 2,\n",
       " -1,\n",
       " 1,\n",
       " 2,\n",
       " -1,\n",
       " 0,\n",
       " -1,\n",
       " -1,\n",
       " 1,\n",
       " -2,\n",
       " 2,\n",
       " -1,\n",
       " 1,\n",
       " -1,\n",
       " 1,\n",
       " 2,\n",
       " 2,\n",
       " 1,\n",
       " -1,\n",
       " -1,\n",
       " 1,\n",
       " 0,\n",
       " 2,\n",
       " 0,\n",
       " 0,\n",
       " -2,\n",
       " -1,\n",
       " 2,\n",
       " 2,\n",
       " -1,\n",
       " 2,\n",
       " 0,\n",
       " -1,\n",
       " -2,\n",
       " 0,\n",
       " -1,\n",
       " 0,\n",
       " -1,\n",
       " 2,\n",
       " 1,\n",
       " 0,\n",
       " 0,\n",
       " -2,\n",
       " -2,\n",
       " -1,\n",
       " -2,\n",
       " 2,\n",
       " -1,\n",
       " 2,\n",
       " 1,\n",
       " 1,\n",
       " 1,\n",
       " -2,\n",
       " -1,\n",
       " 2,\n",
       " 0,\n",
       " 0,\n",
       " 2,\n",
       " 1,\n",
       " 2,\n",
       " -1,\n",
       " 1,\n",
       " -1,\n",
       " 0,\n",
       " 1,\n",
       " -1,\n",
       " -2,\n",
       " 0,\n",
       " -2,\n",
       " 1,\n",
       " 0,\n",
       " 2,\n",
       " -2,\n",
       " 2,\n",
       " 1,\n",
       " 2,\n",
       " 1,\n",
       " -1,\n",
       " 0,\n",
       " 1,\n",
       " -1,\n",
       " -2,\n",
       " 1,\n",
       " 0,\n",
       " 2,\n",
       " -1,\n",
       " -2,\n",
       " -1,\n",
       " -2,\n",
       " 2,\n",
       " 2,\n",
       " -1,\n",
       " -2,\n",
       " 2,\n",
       " -2,\n",
       " 2,\n",
       " -1,\n",
       " 1,\n",
       " 0,\n",
       " 2,\n",
       " -2,\n",
       " 0,\n",
       " -1,\n",
       " -2,\n",
       " -1,\n",
       " -2,\n",
       " -1,\n",
       " 0,\n",
       " 1,\n",
       " 2,\n",
       " 0,\n",
       " 1,\n",
       " 0,\n",
       " 2,\n",
       " -1,\n",
       " -2,\n",
       " -2,\n",
       " 1,\n",
       " 0,\n",
       " -1,\n",
       " 1,\n",
       " 2,\n",
       " -1,\n",
       " 0,\n",
       " -2,\n",
       " -1,\n",
       " 1,\n",
       " 0,\n",
       " -2,\n",
       " 1,\n",
       " 1,\n",
       " -1,\n",
       " 0,\n",
       " 1,\n",
       " -2,\n",
       " -2,\n",
       " 2,\n",
       " 0,\n",
       " -1,\n",
       " 0,\n",
       " 2,\n",
       " -2,\n",
       " -2,\n",
       " 0,\n",
       " 2,\n",
       " 0,\n",
       " 0,\n",
       " -2,\n",
       " 1,\n",
       " -2,\n",
       " 1,\n",
       " 2,\n",
       " -1,\n",
       " -2,\n",
       " 2,\n",
       " -2,\n",
       " 0,\n",
       " -2,\n",
       " -2,\n",
       " -2,\n",
       " 2,\n",
       " 2,\n",
       " 1,\n",
       " -2,\n",
       " -1,\n",
       " -1,\n",
       " 1,\n",
       " 1,\n",
       " 1,\n",
       " 0,\n",
       " 2,\n",
       " -2,\n",
       " 1,\n",
       " 0,\n",
       " -1,\n",
       " 1,\n",
       " 0,\n",
       " 2,\n",
       " 1,\n",
       " -1,\n",
       " 0,\n",
       " -1,\n",
       " 1,\n",
       " 0,\n",
       " -2,\n",
       " 0,\n",
       " 1,\n",
       " -2,\n",
       " -2,\n",
       " -2,\n",
       " -2,\n",
       " 0,\n",
       " 0,\n",
       " 2,\n",
       " 1,\n",
       " 2,\n",
       " -2,\n",
       " -2,\n",
       " 1,\n",
       " 1,\n",
       " 1,\n",
       " -2,\n",
       " -1,\n",
       " 0,\n",
       " 2,\n",
       " 2,\n",
       " -1,\n",
       " 0,\n",
       " 1,\n",
       " -1,\n",
       " -2,\n",
       " -2,\n",
       " 2,\n",
       " 1,\n",
       " 0,\n",
       " -2,\n",
       " -2,\n",
       " 0,\n",
       " 2,\n",
       " 0,\n",
       " -2,\n",
       " -1,\n",
       " -1,\n",
       " 2,\n",
       " -2,\n",
       " 0,\n",
       " 0,\n",
       " -2,\n",
       " 0,\n",
       " -2,\n",
       " 0,\n",
       " -2,\n",
       " 2,\n",
       " -1,\n",
       " -2,\n",
       " -1,\n",
       " 0,\n",
       " 1,\n",
       " 1,\n",
       " 2,\n",
       " -1,\n",
       " -1,\n",
       " 1,\n",
       " -1,\n",
       " 0,\n",
       " -2,\n",
       " -1,\n",
       " -1,\n",
       " 0,\n",
       " 2,\n",
       " 1,\n",
       " 0,\n",
       " 2,\n",
       " 2,\n",
       " -2,\n",
       " 2,\n",
       " 0,\n",
       " -2,\n",
       " -2,\n",
       " 0,\n",
       " 1,\n",
       " 0,\n",
       " -2,\n",
       " 1,\n",
       " 1,\n",
       " -2,\n",
       " 2,\n",
       " -2,\n",
       " 0,\n",
       " 0,\n",
       " -2,\n",
       " 2,\n",
       " 1,\n",
       " -1,\n",
       " 2,\n",
       " 0,\n",
       " 1,\n",
       " 2,\n",
       " -2,\n",
       " -2,\n",
       " 0,\n",
       " 0,\n",
       " -1,\n",
       " 1,\n",
       " -1,\n",
       " 2,\n",
       " -2,\n",
       " 1,\n",
       " 0,\n",
       " -1,\n",
       " 2,\n",
       " -2,\n",
       " 1,\n",
       " -2,\n",
       " 1,\n",
       " 0,\n",
       " -2,\n",
       " 1,\n",
       " -2,\n",
       " 2,\n",
       " -1,\n",
       " 2,\n",
       " -2,\n",
       " 1,\n",
       " 1,\n",
       " 1,\n",
       " 1,\n",
       " -1,\n",
       " 1,\n",
       " 0,\n",
       " 2,\n",
       " 2,\n",
       " 2,\n",
       " -2,\n",
       " 0,\n",
       " -2,\n",
       " -1,\n",
       " 0,\n",
       " -2,\n",
       " 2,\n",
       " -2,\n",
       " 2,\n",
       " -2,\n",
       " -1,\n",
       " 2,\n",
       " 0,\n",
       " 0,\n",
       " 2,\n",
       " -2,\n",
       " 0,\n",
       " 1,\n",
       " -2,\n",
       " -1,\n",
       " 2,\n",
       " 2,\n",
       " 2,\n",
       " -2,\n",
       " 0,\n",
       " 1,\n",
       " 0,\n",
       " 0,\n",
       " -2,\n",
       " -2,\n",
       " 2,\n",
       " 1,\n",
       " -1,\n",
       " -1,\n",
       " 1,\n",
       " -2,\n",
       " 2,\n",
       " 1,\n",
       " 2,\n",
       " -1,\n",
       " 1,\n",
       " -1,\n",
       " 1,\n",
       " 1,\n",
       " -1,\n",
       " 2,\n",
       " 2,\n",
       " 2,\n",
       " -2,\n",
       " 0,\n",
       " 2,\n",
       " 2,\n",
       " -1,\n",
       " -2,\n",
       " -2,\n",
       " -2,\n",
       " 1,\n",
       " 1,\n",
       " -2,\n",
       " -1,\n",
       " -1,\n",
       " 2,\n",
       " 1,\n",
       " -2,\n",
       " 1,\n",
       " 0,\n",
       " 2,\n",
       " 2,\n",
       " 2,\n",
       " -1,\n",
       " -1,\n",
       " 0,\n",
       " 1,\n",
       " 0,\n",
       " 2,\n",
       " 1,\n",
       " 0,\n",
       " -1,\n",
       " -2,\n",
       " -1,\n",
       " -2,\n",
       " 2,\n",
       " 1,\n",
       " -2,\n",
       " 1,\n",
       " -2,\n",
       " 1,\n",
       " 1,\n",
       " 1,\n",
       " 1,\n",
       " -2,\n",
       " 2,\n",
       " -2,\n",
       " -1,\n",
       " -2,\n",
       " -2,\n",
       " 2,\n",
       " 0,\n",
       " 0,\n",
       " 0,\n",
       " 0,\n",
       " -1,\n",
       " 0,\n",
       " -2,\n",
       " 0,\n",
       " -1,\n",
       " -2,\n",
       " 0,\n",
       " 2,\n",
       " -2,\n",
       " 2,\n",
       " 0,\n",
       " 2,\n",
       " -1,\n",
       " -1,\n",
       " 0,\n",
       " -1,\n",
       " -1,\n",
       " 1,\n",
       " 0,\n",
       " -1,\n",
       " 0,\n",
       " -1,\n",
       " 1,\n",
       " -2,\n",
       " -2,\n",
       " 2,\n",
       " 1,\n",
       " 1,\n",
       " -1,\n",
       " 0,\n",
       " 1,\n",
       " 2,\n",
       " 1,\n",
       " -1,\n",
       " 2,\n",
       " -1,\n",
       " 1,\n",
       " 0,\n",
       " 1,\n",
       " -2,\n",
       " -1,\n",
       " 0,\n",
       " 2,\n",
       " 0,\n",
       " 0,\n",
       " 0,\n",
       " 1,\n",
       " -1,\n",
       " -1,\n",
       " -2,\n",
       " 0,\n",
       " 2,\n",
       " 0,\n",
       " -2,\n",
       " -1,\n",
       " 0,\n",
       " 0,\n",
       " -2,\n",
       " 2,\n",
       " 0,\n",
       " -1,\n",
       " 1,\n",
       " -2,\n",
       " -2,\n",
       " -2,\n",
       " 1,\n",
       " 1,\n",
       " -2,\n",
       " 2,\n",
       " -2,\n",
       " 1,\n",
       " -2,\n",
       " 1,\n",
       " -1,\n",
       " 1,\n",
       " -2,\n",
       " 0,\n",
       " 0,\n",
       " 2,\n",
       " 0,\n",
       " 1,\n",
       " -1,\n",
       " 0,\n",
       " 0,\n",
       " -1,\n",
       " 2,\n",
       " 0,\n",
       " 0,\n",
       " -1,\n",
       " 0,\n",
       " 0,\n",
       " -2,\n",
       " 0,\n",
       " -2,\n",
       " -2,\n",
       " -1,\n",
       " -2,\n",
       " 1,\n",
       " -2,\n",
       " 2,\n",
       " 0,\n",
       " -1,\n",
       " 2,\n",
       " -1,\n",
       " 0,\n",
       " 1,\n",
       " -1,\n",
       " -2,\n",
       " 1,\n",
       " 2,\n",
       " 0,\n",
       " 0,\n",
       " -1,\n",
       " 2,\n",
       " -2,\n",
       " 2,\n",
       " 1,\n",
       " 0,\n",
       " -1,\n",
       " -2,\n",
       " 2,\n",
       " -2,\n",
       " 1,\n",
       " 0,\n",
       " 0,\n",
       " -2,\n",
       " -1,\n",
       " 0,\n",
       " 2,\n",
       " 1,\n",
       " 1,\n",
       " 0,\n",
       " -1,\n",
       " 2,\n",
       " 2,\n",
       " -2,\n",
       " -2,\n",
       " 2,\n",
       " 0,\n",
       " -2,\n",
       " 2,\n",
       " 0,\n",
       " 2,\n",
       " -1,\n",
       " 1,\n",
       " -2,\n",
       " -2,\n",
       " 1,\n",
       " 1,\n",
       " -2,\n",
       " 0,\n",
       " -1,\n",
       " -2,\n",
       " -1,\n",
       " -1,\n",
       " -2,\n",
       " -2,\n",
       " -1,\n",
       " -1,\n",
       " 0,\n",
       " -1,\n",
       " 1,\n",
       " 0,\n",
       " 1,\n",
       " 2,\n",
       " 1,\n",
       " -1,\n",
       " -2,\n",
       " 1,\n",
       " -1,\n",
       " 0,\n",
       " 2,\n",
       " 0,\n",
       " 0,\n",
       " 2,\n",
       " 0,\n",
       " -2,\n",
       " -2,\n",
       " 0,\n",
       " 2,\n",
       " 0,\n",
       " 1,\n",
       " -1,\n",
       " -1,\n",
       " 1,\n",
       " -2,\n",
       " 1,\n",
       " -1,\n",
       " 1,\n",
       " -1,\n",
       " 0,\n",
       " -2,\n",
       " 1,\n",
       " 1,\n",
       " 1,\n",
       " 1,\n",
       " -2,\n",
       " -1,\n",
       " 1,\n",
       " 1,\n",
       " 0,\n",
       " 2,\n",
       " -2,\n",
       " 2,\n",
       " -1,\n",
       " -2,\n",
       " -1,\n",
       " 0,\n",
       " -1,\n",
       " 2,\n",
       " -1,\n",
       " 1,\n",
       " 0,\n",
       " 0,\n",
       " 2,\n",
       " -2,\n",
       " 2,\n",
       " 2,\n",
       " -2,\n",
       " 1,\n",
       " 0,\n",
       " 0,\n",
       " 2,\n",
       " 2,\n",
       " 2,\n",
       " 1,\n",
       " -2,\n",
       " 0,\n",
       " -1,\n",
       " 1,\n",
       " 2,\n",
       " ...]"
      ]
     },
     "execution_count": 135,
     "metadata": {},
     "output_type": "execute_result"
    }
   ],
   "source": [
    "AliceKey"
   ]
  },
  {
   "cell_type": "code",
   "execution_count": 137,
   "metadata": {
    "colab": {},
    "colab_type": "code",
    "id": "kE8D7VsSG6NA",
    "outputId": "550398f2-4a34-419e-ec8b-b9db6a09212a"
   },
   "outputs": [
    {
     "data": {
      "text/plain": [
       "0.8626"
      ]
     },
     "execution_count": 137,
     "metadata": {},
     "output_type": "execute_result"
    }
   ],
   "source": [
    "count_diff(AliceKey, Alice_TPM.get_weights())"
   ]
  },
  {
   "cell_type": "markdown",
   "metadata": {
    "colab_type": "text",
    "id": "zIJ48VZ-G6ND"
   },
   "source": [
    "## k = 7, l = 3, n = 10000"
   ]
  },
  {
   "cell_type": "code",
   "execution_count": 138,
   "metadata": {
    "colab": {},
    "colab_type": "code",
    "id": "_YbQhj0dG6NE",
    "outputId": "f27d1679-2b92-4f3a-b9e4-9475f87a73b0"
   },
   "outputs": [
    {
     "data": {
      "text/plain": [
       "[<matplotlib.lines.Line2D at 0x7f834121ffd0>]"
      ]
     },
     "execution_count": 138,
     "metadata": {},
     "output_type": "execute_result"
    },
    {
     "data": {
      "image/png": "[encoded data removed]",
      "text/plain": [
       "<Figure size 432x288 with 1 Axes>"
      ]
     },
     "metadata": {
      "needs_background": "light"
     },
     "output_type": "display_data"
    }
   ],
   "source": [
    "import matplotlib.pyplot as plt\n",
    "%matplotlib inline  \n",
    "plt.ylim((0, 0.8))\n",
    "plt.ylabel('QBER, %')\n",
    "plt.xlabel('iteration')\n",
    "plt.plot(steps, difference)"
   ]
  },
  {
   "cell_type": "code",
   "execution_count": 0,
   "metadata": {
    "colab": {},
    "colab_type": "code",
    "id": "MvBDZUMtG6NG",
    "outputId": "35e4b75a-5399-412d-8f49-42b43235fe70"
   },
   "outputs": [
    {
     "data": {
      "text/plain": [
       "Text(0,0.5,u'time, s')"
      ]
     },
     "execution_count": 737,
     "metadata": {
      "tags": []
     },
     "output_type": "execute_result"
    },
    {
     "data": {
      "image/png": "[encoded data removed]",
      "text/plain": [
       "<matplotlib.figure.Figure at 0xbde50710>"
      ]
     },
     "metadata": {
      "tags": []
     },
     "output_type": "display_data"
    }
   ],
   "source": [
    "plt.plot(timing)\n",
    "plt.xlabel('iteration')\n",
    "plt.ylabel('time, s')"
   ]
  },
  {
   "cell_type": "markdown",
   "metadata": {
    "colab_type": "text",
    "id": "IG1rx1I_G6NJ"
   },
   "source": [
    "## n = 50000"
   ]
  },
  {
   "cell_type": "code",
   "execution_count": 0,
   "metadata": {
    "colab": {},
    "colab_type": "code",
    "id": "0e9TRzFPG6NJ",
    "outputId": "a06c2f60-e908-4bfc-b4c0-5638cadca1fd"
   },
   "outputs": [
    {
     "data": {
      "text/plain": [
       "[<matplotlib.lines.Line2D at 0xbf265ba8>]"
      ]
     },
     "execution_count": 715,
     "metadata": {
      "tags": []
     },
     "output_type": "execute_result"
    },
    {
     "data": {
      "image/png": "[encoded data removed]",
      "text/plain": [
       "<matplotlib.figure.Figure at 0xb5462358>"
      ]
     },
     "metadata": {
      "tags": []
     },
     "output_type": "display_data"
    }
   ],
   "source": [
    "import matplotlib.pyplot as plt\n",
    "%matplotlib inline  \n",
    "plt.ylim((0, 0.6))\n",
    "plt.ylabel('QBER, %')\n",
    "plt.xlabel('iteration')\n",
    "plt.plot(steps, difference)"
   ]
  },
  {
   "cell_type": "code",
   "execution_count": 0,
   "metadata": {
    "colab": {},
    "colab_type": "code",
    "id": "9aw_qRBiG6NM",
    "outputId": "abb533ba-ccc9-4f4b-e74c-ff11182f8b32"
   },
   "outputs": [
    {
     "data": {
      "text/plain": [
       "Text(0,0.5,u'time, s')"
      ]
     },
     "execution_count": 716,
     "metadata": {
      "tags": []
     },
     "output_type": "execute_result"
    },
    {
     "data": {
      "image/png": "[encoded data removed]",
      "text/plain": [
       "<matplotlib.figure.Figure at 0x5d85f278>"
      ]
     },
     "metadata": {
      "tags": []
     },
     "output_type": "display_data"
    }
   ],
   "source": [
    "plt.plot(timing)\n",
    "plt.xlabel('iteration')\n",
    "plt.ylabel('time, s')"
   ]
  },
  {
   "cell_type": "markdown",
   "metadata": {
    "colab_type": "text",
    "id": "NCcEt0eVG6NP"
   },
   "source": [
    "## n = 10000"
   ]
  },
  {
   "cell_type": "code",
   "execution_count": 0,
   "metadata": {
    "colab": {},
    "colab_type": "code",
    "id": "d1DGM6VlG6NS",
    "outputId": "1fc26cd4-836c-421a-ba87-4d07e6dd9874"
   },
   "outputs": [
    {
     "data": {
      "text/plain": [
       "[<matplotlib.lines.Line2D at 0xbe7b9208>]"
      ]
     },
     "execution_count": 711,
     "metadata": {
      "tags": []
     },
     "output_type": "execute_result"
    },
    {
     "data": {
      "image/png": "[encoded data removed]",
      "text/plain": [
       "<matplotlib.figure.Figure at 0xbe7b94e0>"
      ]
     },
     "metadata": {
      "tags": []
     },
     "output_type": "display_data"
    }
   ],
   "source": [
    "import matplotlib.pyplot as plt\n",
    "%matplotlib inline  \n",
    "plt.ylim((0, 0.6))\n",
    "plt.ylabel('QBER, %')\n",
    "plt.xlabel('iteration')\n",
    "plt.plot(steps, difference)"
   ]
  },
  {
   "cell_type": "code",
   "execution_count": 0,
   "metadata": {
    "colab": {},
    "colab_type": "code",
    "id": "EFVm7HKKG6NW",
    "outputId": "c5662a58-c54c-47d6-f2c9-1fd5d213d7cd"
   },
   "outputs": [
    {
     "data": {
      "text/plain": [
       "Text(0,0.5,u'time, s')"
      ]
     },
     "execution_count": 713,
     "metadata": {
      "tags": []
     },
     "output_type": "execute_result"
    },
    {
     "data": {
      "image/png": "[encoded data removed]",
      "text/plain": [
       "<matplotlib.figure.Figure at 0xbf26fb70>"
      ]
     },
     "metadata": {
      "tags": []
     },
     "output_type": "display_data"
    }
   ],
   "source": [
    "plt.plot(timing)\n",
    "plt.xlabel('iteration')\n",
    "plt.ylabel('time, s')"
   ]
  },
  {
   "cell_type": "markdown",
   "metadata": {
    "colab_type": "text",
    "id": "WUEkV81GG6NZ"
   },
   "source": [
    "### n = 30000"
   ]
  },
  {
   "cell_type": "code",
   "execution_count": 0,
   "metadata": {
    "colab": {},
    "colab_type": "code",
    "id": "mRVL-iQnG6Na",
    "outputId": "8965996e-520c-4523-d78e-a8aa6c3fb52d"
   },
   "outputs": [
    {
     "data": {
      "text/plain": [
       "[<matplotlib.lines.Line2D at 0xb3069ac8>]"
      ]
     },
     "execution_count": 706,
     "metadata": {
      "tags": []
     },
     "output_type": "execute_result"
    },
    {
     "data": {
      "image/png": "[encoded data removed]",
      "text/plain": [
       "<matplotlib.figure.Figure at 0xbd4ef908>"
      ]
     },
     "metadata": {
      "tags": []
     },
     "output_type": "display_data"
    }
   ],
   "source": [
    "import matplotlib.pyplot as plt\n",
    "%matplotlib inline  \n",
    "plt.ylim((0, 0.6))\n",
    "plt.plot(steps, difference)"
   ]
  },
  {
   "cell_type": "code",
   "execution_count": 0,
   "metadata": {
    "colab": {},
    "colab_type": "code",
    "id": "JRjNtfdwG6Nc",
    "outputId": "f865fd6c-1fb5-4b18-a862-0dc0a1269831"
   },
   "outputs": [
    {
     "data": {
      "text/plain": [
       "[<matplotlib.lines.Line2D at 0xbe6d9e80>]"
      ]
     },
     "execution_count": 707,
     "metadata": {
      "tags": []
     },
     "output_type": "execute_result"
    },
    {
     "data": {
      "image/png": "[encoded data removed]",
      "text/plain": [
       "<matplotlib.figure.Figure at 0xb2724278>"
      ]
     },
     "metadata": {
      "tags": []
     },
     "output_type": "display_data"
    }
   ],
   "source": [
    "plt.plot(timing)"
   ]
  },
  {
   "cell_type": "markdown",
   "metadata": {
    "colab_type": "text",
    "id": "1K5omk0KG6Ne"
   },
   "source": [
    "## Поиск оптимальных параментров k & n для заданного числа битов"
   ]
  },
  {
   "cell_type": "markdown",
   "metadata": {
    "colab_type": "text",
    "id": "-0Mc9IV8G6Nf"
   },
   "source": [
    "Важные массивы: <br>\n",
    "timing - время на итерацию <br>\n",
    "synchr_time - число итераций, за которе машины синхронизуются <br>\n",
    "trajectories - зависимость части ошибочных бит от номера итерации. В клеточке ниже его нет!"
   ]
  },
  {
   "cell_type": "code",
   "execution_count": 139,
   "metadata": {
    "colab": {},
    "colab_type": "code",
    "id": "r2-NJtmPG6Ng",
    "outputId": "a4a3de6b-4262-4fa5-d76b-cfd7d42d4df5"
   },
   "outputs": [
    {
     "name": "stderr",
     "output_type": "stream",
     "text": [
      "/home/ivan/anaconda3/lib/python3.7/site-packages/ipykernel_launcher.py:13: DeprecationWarning: Calling np.sum(generator) is deprecated, and in the future will give a different result. Use np.sum(np.fromiter(generator)) or the python sum builtin instead.\n",
      "  del sys.path[0]\n",
      "[============                                                            ]  18%\r"
     ]
    },
    {
     "ename": "KeyboardInterrupt",
     "evalue": "",
     "output_type": "error",
     "traceback": [
      "\u001b[0;31m---------------------------------------------------------------------------\u001b[0m",
      "\u001b[0;31mKeyboardInterrupt\u001b[0m                         Traceback (most recent call last)",
      "\u001b[0;32m<ipython-input-139-61dcbd9ea8fa>\u001b[0m in \u001b[0;36m<module>\u001b[0;34m\u001b[0m\n\u001b[1;32m     51\u001b[0m             \u001b[0;31m#print(i)\u001b[0m\u001b[0;34m\u001b[0m\u001b[0;34m\u001b[0m\u001b[0;34m\u001b[0m\u001b[0m\n\u001b[1;32m     52\u001b[0m             \u001b[0msteps\u001b[0m\u001b[0;34m.\u001b[0m\u001b[0mappend\u001b[0m\u001b[0;34m(\u001b[0m\u001b[0mi\u001b[0m\u001b[0;34m)\u001b[0m\u001b[0;34m\u001b[0m\u001b[0;34m\u001b[0m\u001b[0m\n\u001b[0;32m---> 53\u001b[0;31m             \u001b[0mc_diff\u001b[0m \u001b[0;34m=\u001b[0m \u001b[0mcount_diff\u001b[0m\u001b[0;34m(\u001b[0m\u001b[0mAlice_TPM\u001b[0m\u001b[0;34m.\u001b[0m\u001b[0mget_weights\u001b[0m\u001b[0;34m(\u001b[0m\u001b[0;34m)\u001b[0m\u001b[0;34m,\u001b[0m \u001b[0mBob_TPM\u001b[0m\u001b[0;34m.\u001b[0m\u001b[0mget_weights\u001b[0m\u001b[0;34m(\u001b[0m\u001b[0;34m)\u001b[0m\u001b[0;34m)\u001b[0m\u001b[0;34m\u001b[0m\u001b[0;34m\u001b[0m\u001b[0m\n\u001b[0m\u001b[1;32m     54\u001b[0m             \u001b[0mdifference\u001b[0m\u001b[0;34m.\u001b[0m\u001b[0mappend\u001b[0m\u001b[0;34m(\u001b[0m\u001b[0mc_diff\u001b[0m\u001b[0;34m)\u001b[0m\u001b[0;34m\u001b[0m\u001b[0;34m\u001b[0m\u001b[0m\n\u001b[1;32m     55\u001b[0m             \u001b[0mstop_time\u001b[0m \u001b[0;34m=\u001b[0m \u001b[0mtime\u001b[0m\u001b[0;34m(\u001b[0m\u001b[0;34m)\u001b[0m\u001b[0;34m\u001b[0m\u001b[0;34m\u001b[0m\u001b[0m\n",
      "\u001b[0;32m<ipython-input-132-d49d0600242c>\u001b[0m in \u001b[0;36mcount_diff\u001b[0;34m(arr1, arr2)\u001b[0m\n\u001b[1;32m      4\u001b[0m     \u001b[0mcount\u001b[0m \u001b[0;34m=\u001b[0m \u001b[0;36m0\u001b[0m\u001b[0;34m\u001b[0m\u001b[0;34m\u001b[0m\u001b[0m\n\u001b[1;32m      5\u001b[0m     \u001b[0;32mfor\u001b[0m \u001b[0mi\u001b[0m \u001b[0;32min\u001b[0m \u001b[0mrange\u001b[0m\u001b[0;34m(\u001b[0m\u001b[0mlen\u001b[0m\u001b[0;34m(\u001b[0m\u001b[0marr1\u001b[0m\u001b[0;34m)\u001b[0m\u001b[0;34m)\u001b[0m\u001b[0;34m:\u001b[0m\u001b[0;34m\u001b[0m\u001b[0;34m\u001b[0m\u001b[0m\n\u001b[0;32m----> 6\u001b[0;31m         \u001b[0;32mif\u001b[0m \u001b[0marr1\u001b[0m\u001b[0;34m[\u001b[0m\u001b[0mi\u001b[0m\u001b[0;34m]\u001b[0m \u001b[0;34m!=\u001b[0m \u001b[0marr2\u001b[0m\u001b[0;34m[\u001b[0m\u001b[0mi\u001b[0m\u001b[0;34m]\u001b[0m\u001b[0;34m:\u001b[0m\u001b[0;34m\u001b[0m\u001b[0;34m\u001b[0m\u001b[0m\n\u001b[0m\u001b[1;32m      7\u001b[0m             \u001b[0mcount\u001b[0m \u001b[0;34m+=\u001b[0m \u001b[0;36m1\u001b[0m\u001b[0;34m\u001b[0m\u001b[0;34m\u001b[0m\u001b[0m\n\u001b[1;32m      8\u001b[0m     \u001b[0;32mreturn\u001b[0m \u001b[0;36m1.0\u001b[0m\u001b[0;34m*\u001b[0m\u001b[0mcount\u001b[0m\u001b[0;34m/\u001b[0m\u001b[0mlen\u001b[0m\u001b[0;34m(\u001b[0m\u001b[0marr1\u001b[0m\u001b[0;34m)\u001b[0m\u001b[0;34m\u001b[0m\u001b[0;34m\u001b[0m\u001b[0m\n",
      "\u001b[0;31mKeyboardInterrupt\u001b[0m: "
     ]
    }
   ],
   "source": [
    "import random\n",
    "l = 2\n",
    "k = 3\n",
    "n = 1000#int(len(AliceKey)/3)\n",
    "arr_k = [2, 3, 4, 5, 6, 8, 10, 20, 30, 40, 50, 60, 100]\n",
    "arr_n = [1500, 1000, 750, 600, 500, 375, 300, 150, 100, 75, 60, 50, 30]\n",
    "\n",
    "AliceKey = AliceKeyFile[:n*k]#[:3*int(len(AliceKey)/3)]\n",
    "BobKey = BobKeyFile[:n*k]#[:3*int(len(AliceKey)/3)]\n",
    "#for i in range(n*k):\n",
    "    #AliceKey[i] = -3 + AliceKey[i] % 7\n",
    "    #BobKey[i] = -3 + BobKey[i] % 7\n",
    "\n",
    "Alice_TPM = TPM(l, k, n)\n",
    "Bob_TPM = TPM(l, k, n)\n",
    "#AliceKey = [250, 53, 250, 50, 50, 120, 1, 233, 245, 20, 9, 44, 243, 0, 77]\n",
    "#BobKey = [215, 153, 222, 23, 48, 9, 128, 31, 14, 22, 0, 202, 105, 201, 224]\n",
    "        \n",
    "\n",
    "\n",
    "import progressbar\n",
    "from time import sleep, time\n",
    "timing = []\n",
    "synchr_time = []\n",
    "\n",
    "for k, n in zip(arr_k, arr_n):\n",
    "    bar = progressbar.ProgressBar(maxval=5000, widgets=[progressbar.Bar('=', '[', ']'), ' ', progressbar.Percentage()])\n",
    "    bar.start()\n",
    "    for s in range(5000):\n",
    "        s_itt = np.inf\n",
    "        Alice_TPM.weights_initialization(AliceKey)\n",
    "        Bob_TPM.weights_initialization(BobKey)\n",
    "        difference = [count_diff(AliceKey, BobKey)]\n",
    "        #print(count_diff(AliceKey, BobKey))\n",
    "        steps = [0]\n",
    "        synchr_itt = []\n",
    "        for i in range(5000):\n",
    "            start_time = time()\n",
    "            input_random = np.zeros(n*k)\n",
    "            for x in range(n*k):\n",
    "                z = random.randrange(-1, 1)\n",
    "                if z == 0: z = 1\n",
    "                input_random[x] = z\n",
    "            #print(input_random)\n",
    "            Alice_TPM.calculate_output(input_random)\n",
    "            Bob_TPM.calculate_output(input_random)\n",
    "            if Alice_TPM.output == Bob_TPM.output:\n",
    "                Alice_TPM.update()\n",
    "                Bob_TPM.update()\n",
    "                #print('Yep', Alice_TPM.output, Alice_TPM.get_weights())\n",
    "            #print(i)\n",
    "            steps.append(i)\n",
    "            c_diff = count_diff(Alice_TPM.get_weights(), Bob_TPM.get_weights())\n",
    "            difference.append(c_diff)\n",
    "            stop_time = time()\n",
    "            timing.append(stop_time - start_time)\n",
    "            if c_diff == 0:\n",
    "                s_itt = i\n",
    "                break\n",
    "        #trajectories.append(difference)\n",
    "        synchr_itt.append(s_itt)\n",
    "        bar.update(s + 1)\n",
    "    bar.finish()\n",
    "    synchr_time.append(np.mean(synchr_itt))\n",
    "\n",
    "print(np.mean(timing))\n"
   ]
  },
  {
   "cell_type": "markdown",
   "metadata": {
    "colab_type": "text",
    "id": "VoeMU0AGG6Ni"
   },
   "source": [
    "## Размер круга пропорционален среднему времени синхронизации. Расчет производился для 3000 бит, L = 2 и 5000 различных TPM"
   ]
  },
  {
   "cell_type": "code",
   "execution_count": 0,
   "metadata": {
    "colab": {},
    "colab_type": "code",
    "id": "xAlOhpFLG6Nj",
    "outputId": "ea8a84a9-8c0d-4926-c55f-1d96e0e243e2"
   },
   "outputs": [
    {
     "data": {
      "application/vnd.plotly.v1+json": {
       "config": {
        "linkText": "Export to plot.ly",
        "plotlyServerURL": "https://plot.ly",
        "showLink": false
       },
       "data": [
        {
         "marker": {
          "color": "purple",
          "opacity": 1,
          "size": [
           39.800000000000004,
           25.400000000000002,
           10.4,
           11.600000000000001,
           25,
           14.200000000000001,
           15.200000000000001,
           16.2,
           15.600000000000001,
           26.400000000000002,
           13,
           16,
           20.6
          ]
         },
         "mode": "markers",
         "type": "scatter",
         "x": [
          1500,
          1000,
          750,
          600,
          500,
          375,
          300,
          150,
          100,
          75,
          60,
          50,
          30
         ],
         "y": [
          2,
          3,
          4,
          5,
          6,
          8,
          10,
          20,
          30,
          40,
          50,
          60,
          100
         ]
        }
       ],
       "layout": {
        "template": {
         "data": {
          "bar": [
           {
            "error_x": {
             "color": "#2a3f5f"
            },
            "error_y": {
             "color": "#2a3f5f"
            },
            "marker": {
             "line": {
              "color": "#E5ECF6",
              "width": 0.5
             }
            },
            "type": "bar"
           }
          ],
          "barpolar": [
           {
            "marker": {
             "line": {
              "color": "#E5ECF6",
              "width": 0.5
             }
            },
            "type": "barpolar"
           }
          ],
          "carpet": [
           {
            "aaxis": {
             "endlinecolor": "#2a3f5f",
             "gridcolor": "white",
             "linecolor": "white",
             "minorgridcolor": "white",
             "startlinecolor": "#2a3f5f"
            },
            "baxis": {
             "endlinecolor": "#2a3f5f",
             "gridcolor": "white",
             "linecolor": "white",
             "minorgridcolor": "white",
             "startlinecolor": "#2a3f5f"
            },
            "type": "carpet"
           }
          ],
          "choropleth": [
           {
            "colorbar": {
             "outlinewidth": 0,
             "ticks": ""
            },
            "type": "choropleth"
           }
          ],
          "contour": [
           {
            "colorbar": {
             "outlinewidth": 0,
             "ticks": ""
            },
            "colorscale": [
             [
              0,
              "#0d0887"
             ],
             [
              0.1111111111111111,
              "#46039f"
             ],
             [
              0.2222222222222222,
              "#7201a8"
             ],
             [
              0.3333333333333333,
              "#9c179e"
             ],
             [
              0.4444444444444444,
              "#bd3786"
             ],
             [
              0.5555555555555556,
              "#d8576b"
             ],
             [
              0.6666666666666666,
              "#ed7953"
             ],
             [
              0.7777777777777778,
              "#fb9f3a"
             ],
             [
              0.8888888888888888,
              "#fdca26"
             ],
             [
              1,
              "#f0f921"
             ]
            ],
            "type": "contour"
           }
          ],
          "contourcarpet": [
           {
            "colorbar": {
             "outlinewidth": 0,
             "ticks": ""
            },
            "type": "contourcarpet"
           }
          ],
          "heatmap": [
           {
            "colorbar": {
             "outlinewidth": 0,
             "ticks": ""
            },
            "colorscale": [
             [
              0,
              "#0d0887"
             ],
             [
              0.1111111111111111,
              "#46039f"
             ],
             [
              0.2222222222222222,
              "#7201a8"
             ],
             [
              0.3333333333333333,
              "#9c179e"
             ],
             [
              0.4444444444444444,
              "#bd3786"
             ],
             [
              0.5555555555555556,
              "#d8576b"
             ],
             [
              0.6666666666666666,
              "#ed7953"
             ],
             [
              0.7777777777777778,
              "#fb9f3a"
             ],
             [
              0.8888888888888888,
              "#fdca26"
             ],
             [
              1,
              "#f0f921"
             ]
            ],
            "type": "heatmap"
           }
          ],
          "heatmapgl": [
           {
            "colorbar": {
             "outlinewidth": 0,
             "ticks": ""
            },
            "colorscale": [
             [
              0,
              "#0d0887"
             ],
             [
              0.1111111111111111,
              "#46039f"
             ],
             [
              0.2222222222222222,
              "#7201a8"
             ],
             [
              0.3333333333333333,
              "#9c179e"
             ],
             [
              0.4444444444444444,
              "#bd3786"
             ],
             [
              0.5555555555555556,
              "#d8576b"
             ],
             [
              0.6666666666666666,
              "#ed7953"
             ],
             [
              0.7777777777777778,
              "#fb9f3a"
             ],
             [
              0.8888888888888888,
              "#fdca26"
             ],
             [
              1,
              "#f0f921"
             ]
            ],
            "type": "heatmapgl"
           }
          ],
          "histogram": [
           {
            "marker": {
             "colorbar": {
              "outlinewidth": 0,
              "ticks": ""
             }
            },
            "type": "histogram"
           }
          ],
          "histogram2d": [
           {
            "colorbar": {
             "outlinewidth": 0,
             "ticks": ""
            },
            "colorscale": [
             [
              0,
              "#0d0887"
             ],
             [
              0.1111111111111111,
              "#46039f"
             ],
             [
              0.2222222222222222,
              "#7201a8"
             ],
             [
              0.3333333333333333,
              "#9c179e"
             ],
             [
              0.4444444444444444,
              "#bd3786"
             ],
             [
              0.5555555555555556,
              "#d8576b"
             ],
             [
              0.6666666666666666,
              "#ed7953"
             ],
             [
              0.7777777777777778,
              "#fb9f3a"
             ],
             [
              0.8888888888888888,
              "#fdca26"
             ],
             [
              1,
              "#f0f921"
             ]
            ],
            "type": "histogram2d"
           }
          ],
          "histogram2dcontour": [
           {
            "colorbar": {
             "outlinewidth": 0,
             "ticks": ""
            },
            "colorscale": [
             [
              0,
              "#0d0887"
             ],
             [
              0.1111111111111111,
              "#46039f"
             ],
             [
              0.2222222222222222,
              "#7201a8"
             ],
             [
              0.3333333333333333,
              "#9c179e"
             ],
             [
              0.4444444444444444,
              "#bd3786"
             ],
             [
              0.5555555555555556,
              "#d8576b"
             ],
             [
              0.6666666666666666,
              "#ed7953"
             ],
             [
              0.7777777777777778,
              "#fb9f3a"
             ],
             [
              0.8888888888888888,
              "#fdca26"
             ],
             [
              1,
              "#f0f921"
             ]
            ],
            "type": "histogram2dcontour"
           }
          ],
          "mesh3d": [
           {
            "colorbar": {
             "outlinewidth": 0,
             "ticks": ""
            },
            "type": "mesh3d"
           }
          ],
          "parcoords": [
           {
            "line": {
             "colorbar": {
              "outlinewidth": 0,
              "ticks": ""
             }
            },
            "type": "parcoords"
           }
          ],
          "scatter": [
           {
            "marker": {
             "colorbar": {
              "outlinewidth": 0,
              "ticks": ""
             }
            },
            "type": "scatter"
           }
          ],
          "scatter3d": [
           {
            "line": {
             "colorbar": {
              "outlinewidth": 0,
              "ticks": ""
             }
            },
            "marker": {
             "colorbar": {
              "outlinewidth": 0,
              "ticks": ""
             }
            },
            "type": "scatter3d"
           }
          ],
          "scattercarpet": [
           {
            "marker": {
             "colorbar": {
              "outlinewidth": 0,
              "ticks": ""
             }
            },
            "type": "scattercarpet"
           }
          ],
          "scattergeo": [
           {
            "marker": {
             "colorbar": {
              "outlinewidth": 0,
              "ticks": ""
             }
            },
            "type": "scattergeo"
           }
          ],
          "scattergl": [
           {
            "marker": {
             "colorbar": {
              "outlinewidth": 0,
              "ticks": ""
             }
            },
            "type": "scattergl"
           }
          ],
          "scattermapbox": [
           {
            "marker": {
             "colorbar": {
              "outlinewidth": 0,
              "ticks": ""
             }
            },
            "type": "scattermapbox"
           }
          ],
          "scatterpolar": [
           {
            "marker": {
             "colorbar": {
              "outlinewidth": 0,
              "ticks": ""
             }
            },
            "type": "scatterpolar"
           }
          ],
          "scatterpolargl": [
           {
            "marker": {
             "colorbar": {
              "outlinewidth": 0,
              "ticks": ""
             }
            },
            "type": "scatterpolargl"
           }
          ],
          "scatterternary": [
           {
            "marker": {
             "colorbar": {
              "outlinewidth": 0,
              "ticks": ""
             }
            },
            "type": "scatterternary"
           }
          ],
          "surface": [
           {
            "colorbar": {
             "outlinewidth": 0,
             "ticks": ""
            },
            "colorscale": [
             [
              0,
              "#0d0887"
             ],
             [
              0.1111111111111111,
              "#46039f"
             ],
             [
              0.2222222222222222,
              "#7201a8"
             ],
             [
              0.3333333333333333,
              "#9c179e"
             ],
             [
              0.4444444444444444,
              "#bd3786"
             ],
             [
              0.5555555555555556,
              "#d8576b"
             ],
             [
              0.6666666666666666,
              "#ed7953"
             ],
             [
              0.7777777777777778,
              "#fb9f3a"
             ],
             [
              0.8888888888888888,
              "#fdca26"
             ],
             [
              1,
              "#f0f921"
             ]
            ],
            "type": "surface"
           }
          ],
          "table": [
           {
            "cells": {
             "fill": {
              "color": "#EBF0F8"
             },
             "line": {
              "color": "white"
             }
            },
            "header": {
             "fill": {
              "color": "#C8D4E3"
             },
             "line": {
              "color": "white"
             }
            },
            "type": "table"
           }
          ]
         },
         "layout": {
          "annotationdefaults": {
           "arrowcolor": "#2a3f5f",
           "arrowhead": 0,
           "arrowwidth": 1
          },
          "colorscale": {
           "diverging": [
            [
             0,
             "#8e0152"
            ],
            [
             0.1,
             "#c51b7d"
            ],
            [
             0.2,
             "#de77ae"
            ],
            [
             0.3,
             "#f1b6da"
            ],
            [
             0.4,
             "#fde0ef"
            ],
            [
             0.5,
             "#f7f7f7"
            ],
            [
             0.6,
             "#e6f5d0"
            ],
            [
             0.7,
             "#b8e186"
            ],
            [
             0.8,
             "#7fbc41"
            ],
            [
             0.9,
             "#4d9221"
            ],
            [
             1,
             "#276419"
            ]
           ],
           "sequential": [
            [
             0,
             "#0d0887"
            ],
            [
             0.1111111111111111,
             "#46039f"
            ],
            [
             0.2222222222222222,
             "#7201a8"
            ],
            [
             0.3333333333333333,
             "#9c179e"
            ],
            [
             0.4444444444444444,
             "#bd3786"
            ],
            [
             0.5555555555555556,
             "#d8576b"
            ],
            [
             0.6666666666666666,
             "#ed7953"
            ],
            [
             0.7777777777777778,
             "#fb9f3a"
            ],
            [
             0.8888888888888888,
             "#fdca26"
            ],
            [
             1,
             "#f0f921"
            ]
           ],
           "sequentialminus": [
            [
             0,
             "#0d0887"
            ],
            [
             0.1111111111111111,
             "#46039f"
            ],
            [
             0.2222222222222222,
             "#7201a8"
            ],
            [
             0.3333333333333333,
             "#9c179e"
            ],
            [
             0.4444444444444444,
             "#bd3786"
            ],
            [
             0.5555555555555556,
             "#d8576b"
            ],
            [
             0.6666666666666666,
             "#ed7953"
            ],
            [
             0.7777777777777778,
             "#fb9f3a"
            ],
            [
             0.8888888888888888,
             "#fdca26"
            ],
            [
             1,
             "#f0f921"
            ]
           ]
          },
          "colorway": [
           "#636efa",
           "#EF553B",
           "#00cc96",
           "#ab63fa",
           "#FFA15A",
           "#19d3f3",
           "#FF6692",
           "#B6E880",
           "#FF97FF",
           "#FECB52"
          ],
          "font": {
           "color": "#2a3f5f"
          },
          "geo": {
           "bgcolor": "white",
           "lakecolor": "white",
           "landcolor": "#E5ECF6",
           "showlakes": true,
           "showland": true,
           "subunitcolor": "white"
          },
          "hoverlabel": {
           "align": "left"
          },
          "hovermode": "closest",
          "mapbox": {
           "style": "light"
          },
          "paper_bgcolor": "white",
          "plot_bgcolor": "#E5ECF6",
          "polar": {
           "angularaxis": {
            "gridcolor": "white",
            "linecolor": "white",
            "ticks": ""
           },
           "bgcolor": "#E5ECF6",
           "radialaxis": {
            "gridcolor": "white",
            "linecolor": "white",
            "ticks": ""
           }
          },
          "scene": {
           "xaxis": {
            "backgroundcolor": "#E5ECF6",
            "gridcolor": "white",
            "gridwidth": 2,
            "linecolor": "white",
            "showbackground": true,
            "ticks": "",
            "zerolinecolor": "white"
           },
           "yaxis": {
            "backgroundcolor": "#E5ECF6",
            "gridcolor": "white",
            "gridwidth": 2,
            "linecolor": "white",
            "showbackground": true,
            "ticks": "",
            "zerolinecolor": "white"
           },
           "zaxis": {
            "backgroundcolor": "#E5ECF6",
            "gridcolor": "white",
            "gridwidth": 2,
            "linecolor": "white",
            "showbackground": true,
            "ticks": "",
            "zerolinecolor": "white"
           }
          },
          "shapedefaults": {
           "line": {
            "color": "#2a3f5f"
           }
          },
          "ternary": {
           "aaxis": {
            "gridcolor": "white",
            "linecolor": "white",
            "ticks": ""
           },
           "baxis": {
            "gridcolor": "white",
            "linecolor": "white",
            "ticks": ""
           },
           "bgcolor": "#E5ECF6",
           "caxis": {
            "gridcolor": "white",
            "linecolor": "white",
            "ticks": ""
           }
          },
          "title": {
           "x": 0.05
          },
          "xaxis": {
           "automargin": true,
           "gridcolor": "white",
           "linecolor": "white",
           "ticks": "",
           "zerolinecolor": "white",
           "zerolinewidth": 2
          },
          "yaxis": {
           "automargin": true,
           "gridcolor": "white",
           "linecolor": "white",
           "ticks": "",
           "zerolinecolor": "white",
           "zerolinewidth": 2
          }
         }
        }
       }
      },
      "text/html": [
       "<div>\n",
       "        \n",
       "        \n",
       "            <div id=\"c36be9cf-2831-4bb0-9459-a1181ff3c1a4\" class=\"plotly-graph-div\" style=\"height:525px; width:100%;\"></div>\n",
       "            <script type=\"text/javascript\">\n",
       "                require([\"plotly\"], function(Plotly) {\n",
       "                    window.PLOTLYENV=window.PLOTLYENV || {};\n",
       "                    \n",
       "                if (document.getElementById(\"c36be9cf-2831-4bb0-9459-a1181ff3c1a4\")) {\n",
       "                    Plotly.newPlot(\n",
       "                        'c36be9cf-2831-4bb0-9459-a1181ff3c1a4',\n",
       "                        [{\"marker\": {\"color\": \"purple\", \"opacity\": 1, \"size\": [39.800000000000004, 25.400000000000002, 10.4, 11.600000000000001, 25.0, 14.200000000000001, 15.200000000000001, 16.2, 15.600000000000001, 26.400000000000002, 13.0, 16.0, 20.6]}, \"mode\": \"markers\", \"type\": \"scatter\", \"x\": [1500, 1000, 750, 600, 500, 375, 300, 150, 100, 75, 60, 50, 30], \"y\": [2, 3, 4, 5, 6, 8, 10, 20, 30, 40, 50, 60, 100]}],\n",
       "                        {\"template\": {\"data\": {\"bar\": [{\"error_x\": {\"color\": \"#2a3f5f\"}, \"error_y\": {\"color\": \"#2a3f5f\"}, \"marker\": {\"line\": {\"color\": \"#E5ECF6\", \"width\": 0.5}}, \"type\": \"bar\"}], \"barpolar\": [{\"marker\": {\"line\": {\"color\": \"#E5ECF6\", \"width\": 0.5}}, \"type\": \"barpolar\"}], \"carpet\": [{\"aaxis\": {\"endlinecolor\": \"#2a3f5f\", \"gridcolor\": \"white\", \"linecolor\": \"white\", \"minorgridcolor\": \"white\", \"startlinecolor\": \"#2a3f5f\"}, \"baxis\": {\"endlinecolor\": \"#2a3f5f\", \"gridcolor\": \"white\", \"linecolor\": \"white\", \"minorgridcolor\": \"white\", \"startlinecolor\": \"#2a3f5f\"}, \"type\": \"carpet\"}], \"choropleth\": [{\"colorbar\": {\"outlinewidth\": 0, \"ticks\": \"\"}, \"type\": \"choropleth\"}], \"contour\": [{\"colorbar\": {\"outlinewidth\": 0, \"ticks\": \"\"}, \"colorscale\": [[0.0, \"#0d0887\"], [0.1111111111111111, \"#46039f\"], [0.2222222222222222, \"#7201a8\"], [0.3333333333333333, \"#9c179e\"], [0.4444444444444444, \"#bd3786\"], [0.5555555555555556, \"#d8576b\"], [0.6666666666666666, \"#ed7953\"], [0.7777777777777778, \"#fb9f3a\"], [0.8888888888888888, \"#fdca26\"], [1.0, \"#f0f921\"]], \"type\": \"contour\"}], \"contourcarpet\": [{\"colorbar\": {\"outlinewidth\": 0, \"ticks\": \"\"}, \"type\": \"contourcarpet\"}], \"heatmap\": [{\"colorbar\": {\"outlinewidth\": 0, \"ticks\": \"\"}, \"colorscale\": [[0.0, \"#0d0887\"], [0.1111111111111111, \"#46039f\"], [0.2222222222222222, \"#7201a8\"], [0.3333333333333333, \"#9c179e\"], [0.4444444444444444, \"#bd3786\"], [0.5555555555555556, \"#d8576b\"], [0.6666666666666666, \"#ed7953\"], [0.7777777777777778, \"#fb9f3a\"], [0.8888888888888888, \"#fdca26\"], [1.0, \"#f0f921\"]], \"type\": \"heatmap\"}], \"heatmapgl\": [{\"colorbar\": {\"outlinewidth\": 0, \"ticks\": \"\"}, \"colorscale\": [[0.0, \"#0d0887\"], [0.1111111111111111, \"#46039f\"], [0.2222222222222222, \"#7201a8\"], [0.3333333333333333, \"#9c179e\"], [0.4444444444444444, \"#bd3786\"], [0.5555555555555556, \"#d8576b\"], [0.6666666666666666, \"#ed7953\"], [0.7777777777777778, \"#fb9f3a\"], [0.8888888888888888, \"#fdca26\"], [1.0, \"#f0f921\"]], \"type\": \"heatmapgl\"}], \"histogram\": [{\"marker\": {\"colorbar\": {\"outlinewidth\": 0, \"ticks\": \"\"}}, \"type\": \"histogram\"}], \"histogram2d\": [{\"colorbar\": {\"outlinewidth\": 0, \"ticks\": \"\"}, \"colorscale\": [[0.0, \"#0d0887\"], [0.1111111111111111, \"#46039f\"], [0.2222222222222222, \"#7201a8\"], [0.3333333333333333, \"#9c179e\"], [0.4444444444444444, \"#bd3786\"], [0.5555555555555556, \"#d8576b\"], [0.6666666666666666, \"#ed7953\"], [0.7777777777777778, \"#fb9f3a\"], [0.8888888888888888, \"#fdca26\"], [1.0, \"#f0f921\"]], \"type\": \"histogram2d\"}], \"histogram2dcontour\": [{\"colorbar\": {\"outlinewidth\": 0, \"ticks\": \"\"}, \"colorscale\": [[0.0, \"#0d0887\"], [0.1111111111111111, \"#46039f\"], [0.2222222222222222, \"#7201a8\"], [0.3333333333333333, \"#9c179e\"], [0.4444444444444444, \"#bd3786\"], [0.5555555555555556, \"#d8576b\"], [0.6666666666666666, \"#ed7953\"], [0.7777777777777778, \"#fb9f3a\"], [0.8888888888888888, \"#fdca26\"], [1.0, \"#f0f921\"]], \"type\": \"histogram2dcontour\"}], \"mesh3d\": [{\"colorbar\": {\"outlinewidth\": 0, \"ticks\": \"\"}, \"type\": \"mesh3d\"}], \"parcoords\": [{\"line\": {\"colorbar\": {\"outlinewidth\": 0, \"ticks\": \"\"}}, \"type\": \"parcoords\"}], \"scatter\": [{\"marker\": {\"colorbar\": {\"outlinewidth\": 0, \"ticks\": \"\"}}, \"type\": \"scatter\"}], \"scatter3d\": [{\"line\": {\"colorbar\": {\"outlinewidth\": 0, \"ticks\": \"\"}}, \"marker\": {\"colorbar\": {\"outlinewidth\": 0, \"ticks\": \"\"}}, \"type\": \"scatter3d\"}], \"scattercarpet\": [{\"marker\": {\"colorbar\": {\"outlinewidth\": 0, \"ticks\": \"\"}}, \"type\": \"scattercarpet\"}], \"scattergeo\": [{\"marker\": {\"colorbar\": {\"outlinewidth\": 0, \"ticks\": \"\"}}, \"type\": \"scattergeo\"}], \"scattergl\": [{\"marker\": {\"colorbar\": {\"outlinewidth\": 0, \"ticks\": \"\"}}, \"type\": \"scattergl\"}], \"scattermapbox\": [{\"marker\": {\"colorbar\": {\"outlinewidth\": 0, \"ticks\": \"\"}}, \"type\": \"scattermapbox\"}], \"scatterpolar\": [{\"marker\": {\"colorbar\": {\"outlinewidth\": 0, \"ticks\": \"\"}}, \"type\": \"scatterpolar\"}], \"scatterpolargl\": [{\"marker\": {\"colorbar\": {\"outlinewidth\": 0, \"ticks\": \"\"}}, \"type\": \"scatterpolargl\"}], \"scatterternary\": [{\"marker\": {\"colorbar\": {\"outlinewidth\": 0, \"ticks\": \"\"}}, \"type\": \"scatterternary\"}], \"surface\": [{\"colorbar\": {\"outlinewidth\": 0, \"ticks\": \"\"}, \"colorscale\": [[0.0, \"#0d0887\"], [0.1111111111111111, \"#46039f\"], [0.2222222222222222, \"#7201a8\"], [0.3333333333333333, \"#9c179e\"], [0.4444444444444444, \"#bd3786\"], [0.5555555555555556, \"#d8576b\"], [0.6666666666666666, \"#ed7953\"], [0.7777777777777778, \"#fb9f3a\"], [0.8888888888888888, \"#fdca26\"], [1.0, \"#f0f921\"]], \"type\": \"surface\"}], \"table\": [{\"cells\": {\"fill\": {\"color\": \"#EBF0F8\"}, \"line\": {\"color\": \"white\"}}, \"header\": {\"fill\": {\"color\": \"#C8D4E3\"}, \"line\": {\"color\": \"white\"}}, \"type\": \"table\"}]}, \"layout\": {\"annotationdefaults\": {\"arrowcolor\": \"#2a3f5f\", \"arrowhead\": 0, \"arrowwidth\": 1}, \"colorscale\": {\"diverging\": [[0, \"#8e0152\"], [0.1, \"#c51b7d\"], [0.2, \"#de77ae\"], [0.3, \"#f1b6da\"], [0.4, \"#fde0ef\"], [0.5, \"#f7f7f7\"], [0.6, \"#e6f5d0\"], [0.7, \"#b8e186\"], [0.8, \"#7fbc41\"], [0.9, \"#4d9221\"], [1, \"#276419\"]], \"sequential\": [[0.0, \"#0d0887\"], [0.1111111111111111, \"#46039f\"], [0.2222222222222222, \"#7201a8\"], [0.3333333333333333, \"#9c179e\"], [0.4444444444444444, \"#bd3786\"], [0.5555555555555556, \"#d8576b\"], [0.6666666666666666, \"#ed7953\"], [0.7777777777777778, \"#fb9f3a\"], [0.8888888888888888, \"#fdca26\"], [1.0, \"#f0f921\"]], \"sequentialminus\": [[0.0, \"#0d0887\"], [0.1111111111111111, \"#46039f\"], [0.2222222222222222, \"#7201a8\"], [0.3333333333333333, \"#9c179e\"], [0.4444444444444444, \"#bd3786\"], [0.5555555555555556, \"#d8576b\"], [0.6666666666666666, \"#ed7953\"], [0.7777777777777778, \"#fb9f3a\"], [0.8888888888888888, \"#fdca26\"], [1.0, \"#f0f921\"]]}, \"colorway\": [\"#636efa\", \"#EF553B\", \"#00cc96\", \"#ab63fa\", \"#FFA15A\", \"#19d3f3\", \"#FF6692\", \"#B6E880\", \"#FF97FF\", \"#FECB52\"], \"font\": {\"color\": \"#2a3f5f\"}, \"geo\": {\"bgcolor\": \"white\", \"lakecolor\": \"white\", \"landcolor\": \"#E5ECF6\", \"showlakes\": true, \"showland\": true, \"subunitcolor\": \"white\"}, \"hoverlabel\": {\"align\": \"left\"}, \"hovermode\": \"closest\", \"mapbox\": {\"style\": \"light\"}, \"paper_bgcolor\": \"white\", \"plot_bgcolor\": \"#E5ECF6\", \"polar\": {\"angularaxis\": {\"gridcolor\": \"white\", \"linecolor\": \"white\", \"ticks\": \"\"}, \"bgcolor\": \"#E5ECF6\", \"radialaxis\": {\"gridcolor\": \"white\", \"linecolor\": \"white\", \"ticks\": \"\"}}, \"scene\": {\"xaxis\": {\"backgroundcolor\": \"#E5ECF6\", \"gridcolor\": \"white\", \"gridwidth\": 2, \"linecolor\": \"white\", \"showbackground\": true, \"ticks\": \"\", \"zerolinecolor\": \"white\"}, \"yaxis\": {\"backgroundcolor\": \"#E5ECF6\", \"gridcolor\": \"white\", \"gridwidth\": 2, \"linecolor\": \"white\", \"showbackground\": true, \"ticks\": \"\", \"zerolinecolor\": \"white\"}, \"zaxis\": {\"backgroundcolor\": \"#E5ECF6\", \"gridcolor\": \"white\", \"gridwidth\": 2, \"linecolor\": \"white\", \"showbackground\": true, \"ticks\": \"\", \"zerolinecolor\": \"white\"}}, \"shapedefaults\": {\"line\": {\"color\": \"#2a3f5f\"}}, \"ternary\": {\"aaxis\": {\"gridcolor\": \"white\", \"linecolor\": \"white\", \"ticks\": \"\"}, \"baxis\": {\"gridcolor\": \"white\", \"linecolor\": \"white\", \"ticks\": \"\"}, \"bgcolor\": \"#E5ECF6\", \"caxis\": {\"gridcolor\": \"white\", \"linecolor\": \"white\", \"ticks\": \"\"}}, \"title\": {\"x\": 0.05}, \"xaxis\": {\"automargin\": true, \"gridcolor\": \"white\", \"linecolor\": \"white\", \"ticks\": \"\", \"zerolinecolor\": \"white\", \"zerolinewidth\": 2}, \"yaxis\": {\"automargin\": true, \"gridcolor\": \"white\", \"linecolor\": \"white\", \"ticks\": \"\", \"zerolinecolor\": \"white\", \"zerolinewidth\": 2}}}},\n",
       "                        {\"responsive\": true}\n",
       "                    ).then(function(){\n",
       "                            \n",
       "var gd = document.getElementById('c36be9cf-2831-4bb0-9459-a1181ff3c1a4');\n",
       "var x = new MutationObserver(function (mutations, observer) {{\n",
       "        var display = window.getComputedStyle(gd).display;\n",
       "        if (!display || display === 'none') {{\n",
       "            console.log([gd, 'removed!']);\n",
       "            Plotly.purge(gd);\n",
       "            observer.disconnect();\n",
       "        }}\n",
       "}});\n",
       "\n",
       "// Listen for the removal of the full notebook cells\n",
       "var notebookContainer = gd.closest('#notebook-container');\n",
       "if (notebookContainer) {{\n",
       "    x.observe(notebookContainer, {childList: true});\n",
       "}}\n",
       "\n",
       "// Listen for the clearing of the current output cell\n",
       "var outputEl = gd.closest('.output');\n",
       "if (outputEl) {{\n",
       "    x.observe(outputEl, {childList: true});\n",
       "}}\n",
       "\n",
       "                        })\n",
       "                };\n",
       "                });\n",
       "            </script>\n",
       "        </div>"
      ]
     },
     "metadata": {
      "tags": []
     },
     "output_type": "display_data"
    }
   ],
   "source": [
    "from plotly.offline import plot, iplot\n",
    "import plotly.graph_objs as go\n",
    "import numpy as np\n",
    "import plotly\n",
    "\n",
    "#data = [synchr_time]\n",
    "layout = go.Layout(\n",
    "    xaxis=dict(\n",
    "        autorange=True,\n",
    "        showgrid=True,\n",
    "        zeroline=True,\n",
    "        showline=True,\n",
    "        ticks='',\n",
    "        showticklabels=False\n",
    "    ),\n",
    "    yaxis=dict(\n",
    "        autorange=True,\n",
    "        showgrid=True,\n",
    "        zeroline=True,\n",
    "        showline=True,\n",
    "        ticks='',\n",
    "        showticklabels=False\n",
    "    )\n",
    ")\n",
    "fig = [go.Scatter(x = arr_n, y = arr_k, mode='markers', \n",
    "                    marker=dict(color='purple', size=np.asarray(synchr_time)*0.2, opacity=1))]\n",
    "iplot(fig)"
   ]
  },
  {
   "cell_type": "code",
   "execution_count": 0,
   "metadata": {
    "colab": {},
    "colab_type": "code",
    "id": "l1HgleSfG6Nl",
    "outputId": "316ba966-db0c-44d8-ddcf-685b66bb6da5"
   },
   "outputs": [
    {
     "data": {
      "application/vnd.plotly.v1+json": {
       "config": {
        "plotlyServerURL": "https://plot.ly"
       },
       "data": [
        {
         "mode": "markers",
         "type": "scatter3d",
         "x": [
          1500,
          1000,
          750,
          600,
          500,
          375,
          300,
          150,
          100,
          75,
          60,
          50,
          30
         ],
         "y": [
          2,
          3,
          4,
          5,
          6,
          8,
          10,
          20,
          30,
          40,
          50,
          60,
          100
         ],
         "z": [
          63,
          94,
          106,
          82,
          118,
          89,
          73,
          57,
          114,
          96,
          66,
          67,
          62
         ]
        }
       ],
       "layout": {
        "template": {
         "data": {
          "bar": [
           {
            "error_x": {
             "color": "#2a3f5f"
            },
            "error_y": {
             "color": "#2a3f5f"
            },
            "marker": {
             "line": {
              "color": "#E5ECF6",
              "width": 0.5
             }
            },
            "type": "bar"
           }
          ],
          "barpolar": [
           {
            "marker": {
             "line": {
              "color": "#E5ECF6",
              "width": 0.5
             }
            },
            "type": "barpolar"
           }
          ],
          "carpet": [
           {
            "aaxis": {
             "endlinecolor": "#2a3f5f",
             "gridcolor": "white",
             "linecolor": "white",
             "minorgridcolor": "white",
             "startlinecolor": "#2a3f5f"
            },
            "baxis": {
             "endlinecolor": "#2a3f5f",
             "gridcolor": "white",
             "linecolor": "white",
             "minorgridcolor": "white",
             "startlinecolor": "#2a3f5f"
            },
            "type": "carpet"
           }
          ],
          "choropleth": [
           {
            "colorbar": {
             "outlinewidth": 0,
             "ticks": ""
            },
            "type": "choropleth"
           }
          ],
          "contour": [
           {
            "colorbar": {
             "outlinewidth": 0,
             "ticks": ""
            },
            "colorscale": [
             [
              0,
              "#0d0887"
             ],
             [
              0.1111111111111111,
              "#46039f"
             ],
             [
              0.2222222222222222,
              "#7201a8"
             ],
             [
              0.3333333333333333,
              "#9c179e"
             ],
             [
              0.4444444444444444,
              "#bd3786"
             ],
             [
              0.5555555555555556,
              "#d8576b"
             ],
             [
              0.6666666666666666,
              "#ed7953"
             ],
             [
              0.7777777777777778,
              "#fb9f3a"
             ],
             [
              0.8888888888888888,
              "#fdca26"
             ],
             [
              1,
              "#f0f921"
             ]
            ],
            "type": "contour"
           }
          ],
          "contourcarpet": [
           {
            "colorbar": {
             "outlinewidth": 0,
             "ticks": ""
            },
            "type": "contourcarpet"
           }
          ],
          "heatmap": [
           {
            "colorbar": {
             "outlinewidth": 0,
             "ticks": ""
            },
            "colorscale": [
             [
              0,
              "#0d0887"
             ],
             [
              0.1111111111111111,
              "#46039f"
             ],
             [
              0.2222222222222222,
              "#7201a8"
             ],
             [
              0.3333333333333333,
              "#9c179e"
             ],
             [
              0.4444444444444444,
              "#bd3786"
             ],
             [
              0.5555555555555556,
              "#d8576b"
             ],
             [
              0.6666666666666666,
              "#ed7953"
             ],
             [
              0.7777777777777778,
              "#fb9f3a"
             ],
             [
              0.8888888888888888,
              "#fdca26"
             ],
             [
              1,
              "#f0f921"
             ]
            ],
            "type": "heatmap"
           }
          ],
          "heatmapgl": [
           {
            "colorbar": {
             "outlinewidth": 0,
             "ticks": ""
            },
            "colorscale": [
             [
              0,
              "#0d0887"
             ],
             [
              0.1111111111111111,
              "#46039f"
             ],
             [
              0.2222222222222222,
              "#7201a8"
             ],
             [
              0.3333333333333333,
              "#9c179e"
             ],
             [
              0.4444444444444444,
              "#bd3786"
             ],
             [
              0.5555555555555556,
              "#d8576b"
             ],
             [
              0.6666666666666666,
              "#ed7953"
             ],
             [
              0.7777777777777778,
              "#fb9f3a"
             ],
             [
              0.8888888888888888,
              "#fdca26"
             ],
             [
              1,
              "#f0f921"
             ]
            ],
            "type": "heatmapgl"
           }
          ],
          "histogram": [
           {
            "marker": {
             "colorbar": {
              "outlinewidth": 0,
              "ticks": ""
             }
            },
            "type": "histogram"
           }
          ],
          "histogram2d": [
           {
            "colorbar": {
             "outlinewidth": 0,
             "ticks": ""
            },
            "colorscale": [
             [
              0,
              "#0d0887"
             ],
             [
              0.1111111111111111,
              "#46039f"
             ],
             [
              0.2222222222222222,
              "#7201a8"
             ],
             [
              0.3333333333333333,
              "#9c179e"
             ],
             [
              0.4444444444444444,
              "#bd3786"
             ],
             [
              0.5555555555555556,
              "#d8576b"
             ],
             [
              0.6666666666666666,
              "#ed7953"
             ],
             [
              0.7777777777777778,
              "#fb9f3a"
             ],
             [
              0.8888888888888888,
              "#fdca26"
             ],
             [
              1,
              "#f0f921"
             ]
            ],
            "type": "histogram2d"
           }
          ],
          "histogram2dcontour": [
           {
            "colorbar": {
             "outlinewidth": 0,
             "ticks": ""
            },
            "colorscale": [
             [
              0,
              "#0d0887"
             ],
             [
              0.1111111111111111,
              "#46039f"
             ],
             [
              0.2222222222222222,
              "#7201a8"
             ],
             [
              0.3333333333333333,
              "#9c179e"
             ],
             [
              0.4444444444444444,
              "#bd3786"
             ],
             [
              0.5555555555555556,
              "#d8576b"
             ],
             [
              0.6666666666666666,
              "#ed7953"
             ],
             [
              0.7777777777777778,
              "#fb9f3a"
             ],
             [
              0.8888888888888888,
              "#fdca26"
             ],
             [
              1,
              "#f0f921"
             ]
            ],
            "type": "histogram2dcontour"
           }
          ],
          "mesh3d": [
           {
            "colorbar": {
             "outlinewidth": 0,
             "ticks": ""
            },
            "type": "mesh3d"
           }
          ],
          "parcoords": [
           {
            "line": {
             "colorbar": {
              "outlinewidth": 0,
              "ticks": ""
             }
            },
            "type": "parcoords"
           }
          ],
          "scatter": [
           {
            "marker": {
             "colorbar": {
              "outlinewidth": 0,
              "ticks": ""
             }
            },
            "type": "scatter"
           }
          ],
          "scatter3d": [
           {
            "line": {
             "colorbar": {
              "outlinewidth": 0,
              "ticks": ""
             }
            },
            "marker": {
             "colorbar": {
              "outlinewidth": 0,
              "ticks": ""
             }
            },
            "type": "scatter3d"
           }
          ],
          "scattercarpet": [
           {
            "marker": {
             "colorbar": {
              "outlinewidth": 0,
              "ticks": ""
             }
            },
            "type": "scattercarpet"
           }
          ],
          "scattergeo": [
           {
            "marker": {
             "colorbar": {
              "outlinewidth": 0,
              "ticks": ""
             }
            },
            "type": "scattergeo"
           }
          ],
          "scattergl": [
           {
            "marker": {
             "colorbar": {
              "outlinewidth": 0,
              "ticks": ""
             }
            },
            "type": "scattergl"
           }
          ],
          "scattermapbox": [
           {
            "marker": {
             "colorbar": {
              "outlinewidth": 0,
              "ticks": ""
             }
            },
            "type": "scattermapbox"
           }
          ],
          "scatterpolar": [
           {
            "marker": {
             "colorbar": {
              "outlinewidth": 0,
              "ticks": ""
             }
            },
            "type": "scatterpolar"
           }
          ],
          "scatterpolargl": [
           {
            "marker": {
             "colorbar": {
              "outlinewidth": 0,
              "ticks": ""
             }
            },
            "type": "scatterpolargl"
           }
          ],
          "scatterternary": [
           {
            "marker": {
             "colorbar": {
              "outlinewidth": 0,
              "ticks": ""
             }
            },
            "type": "scatterternary"
           }
          ],
          "surface": [
           {
            "colorbar": {
             "outlinewidth": 0,
             "ticks": ""
            },
            "colorscale": [
             [
              0,
              "#0d0887"
             ],
             [
              0.1111111111111111,
              "#46039f"
             ],
             [
              0.2222222222222222,
              "#7201a8"
             ],
             [
              0.3333333333333333,
              "#9c179e"
             ],
             [
              0.4444444444444444,
              "#bd3786"
             ],
             [
              0.5555555555555556,
              "#d8576b"
             ],
             [
              0.6666666666666666,
              "#ed7953"
             ],
             [
              0.7777777777777778,
              "#fb9f3a"
             ],
             [
              0.8888888888888888,
              "#fdca26"
             ],
             [
              1,
              "#f0f921"
             ]
            ],
            "type": "surface"
           }
          ],
          "table": [
           {
            "cells": {
             "fill": {
              "color": "#EBF0F8"
             },
             "line": {
              "color": "white"
             }
            },
            "header": {
             "fill": {
              "color": "#C8D4E3"
             },
             "line": {
              "color": "white"
             }
            },
            "type": "table"
           }
          ]
         },
         "layout": {
          "annotationdefaults": {
           "arrowcolor": "#2a3f5f",
           "arrowhead": 0,
           "arrowwidth": 1
          },
          "colorscale": {
           "diverging": [
            [
             0,
             "#8e0152"
            ],
            [
             0.1,
             "#c51b7d"
            ],
            [
             0.2,
             "#de77ae"
            ],
            [
             0.3,
             "#f1b6da"
            ],
            [
             0.4,
             "#fde0ef"
            ],
            [
             0.5,
             "#f7f7f7"
            ],
            [
             0.6,
             "#e6f5d0"
            ],
            [
             0.7,
             "#b8e186"
            ],
            [
             0.8,
             "#7fbc41"
            ],
            [
             0.9,
             "#4d9221"
            ],
            [
             1,
             "#276419"
            ]
           ],
           "sequential": [
            [
             0,
             "#0d0887"
            ],
            [
             0.1111111111111111,
             "#46039f"
            ],
            [
             0.2222222222222222,
             "#7201a8"
            ],
            [
             0.3333333333333333,
             "#9c179e"
            ],
            [
             0.4444444444444444,
             "#bd3786"
            ],
            [
             0.5555555555555556,
             "#d8576b"
            ],
            [
             0.6666666666666666,
             "#ed7953"
            ],
            [
             0.7777777777777778,
             "#fb9f3a"
            ],
            [
             0.8888888888888888,
             "#fdca26"
            ],
            [
             1,
             "#f0f921"
            ]
           ],
           "sequentialminus": [
            [
             0,
             "#0d0887"
            ],
            [
             0.1111111111111111,
             "#46039f"
            ],
            [
             0.2222222222222222,
             "#7201a8"
            ],
            [
             0.3333333333333333,
             "#9c179e"
            ],
            [
             0.4444444444444444,
             "#bd3786"
            ],
            [
             0.5555555555555556,
             "#d8576b"
            ],
            [
             0.6666666666666666,
             "#ed7953"
            ],
            [
             0.7777777777777778,
             "#fb9f3a"
            ],
            [
             0.8888888888888888,
             "#fdca26"
            ],
            [
             1,
             "#f0f921"
            ]
           ]
          },
          "colorway": [
           "#636efa",
           "#EF553B",
           "#00cc96",
           "#ab63fa",
           "#FFA15A",
           "#19d3f3",
           "#FF6692",
           "#B6E880",
           "#FF97FF",
           "#FECB52"
          ],
          "font": {
           "color": "#2a3f5f"
          },
          "geo": {
           "bgcolor": "white",
           "lakecolor": "white",
           "landcolor": "#E5ECF6",
           "showlakes": true,
           "showland": true,
           "subunitcolor": "white"
          },
          "hoverlabel": {
           "align": "left"
          },
          "hovermode": "closest",
          "mapbox": {
           "style": "light"
          },
          "paper_bgcolor": "white",
          "plot_bgcolor": "#E5ECF6",
          "polar": {
           "angularaxis": {
            "gridcolor": "white",
            "linecolor": "white",
            "ticks": ""
           },
           "bgcolor": "#E5ECF6",
           "radialaxis": {
            "gridcolor": "white",
            "linecolor": "white",
            "ticks": ""
           }
          },
          "scene": {
           "xaxis": {
            "backgroundcolor": "#E5ECF6",
            "gridcolor": "white",
            "gridwidth": 2,
            "linecolor": "white",
            "showbackground": true,
            "ticks": "",
            "zerolinecolor": "white"
           },
           "yaxis": {
            "backgroundcolor": "#E5ECF6",
            "gridcolor": "white",
            "gridwidth": 2,
            "linecolor": "white",
            "showbackground": true,
            "ticks": "",
            "zerolinecolor": "white"
           },
           "zaxis": {
            "backgroundcolor": "#E5ECF6",
            "gridcolor": "white",
            "gridwidth": 2,
            "linecolor": "white",
            "showbackground": true,
            "ticks": "",
            "zerolinecolor": "white"
           }
          },
          "shapedefaults": {
           "line": {
            "color": "#2a3f5f"
           }
          },
          "ternary": {
           "aaxis": {
            "gridcolor": "white",
            "linecolor": "white",
            "ticks": ""
           },
           "baxis": {
            "gridcolor": "white",
            "linecolor": "white",
            "ticks": ""
           },
           "bgcolor": "#E5ECF6",
           "caxis": {
            "gridcolor": "white",
            "linecolor": "white",
            "ticks": ""
           }
          },
          "title": {
           "x": 0.05
          },
          "xaxis": {
           "automargin": true,
           "gridcolor": "white",
           "linecolor": "white",
           "ticks": "",
           "zerolinecolor": "white",
           "zerolinewidth": 2
          },
          "yaxis": {
           "automargin": true,
           "gridcolor": "white",
           "linecolor": "white",
           "ticks": "",
           "zerolinecolor": "white",
           "zerolinewidth": 2
          }
         }
        }
       }
      },
      "text/html": [
       "<div>\n",
       "        \n",
       "        \n",
       "            <div id=\"7fb31410-81a9-4856-8a91-6bd73c8d196d\" class=\"plotly-graph-div\" style=\"height:525px; width:100%;\"></div>\n",
       "            <script type=\"text/javascript\">\n",
       "                require([\"plotly\"], function(Plotly) {\n",
       "                    window.PLOTLYENV=window.PLOTLYENV || {};\n",
       "                    \n",
       "                if (document.getElementById(\"7fb31410-81a9-4856-8a91-6bd73c8d196d\")) {\n",
       "                    Plotly.newPlot(\n",
       "                        '7fb31410-81a9-4856-8a91-6bd73c8d196d',\n",
       "                        [{\"mode\": \"markers\", \"type\": \"scatter3d\", \"x\": [1500, 1000, 750, 600, 500, 375, 300, 150, 100, 75, 60, 50, 30], \"y\": [2, 3, 4, 5, 6, 8, 10, 20, 30, 40, 50, 60, 100], \"z\": [63.0, 94.0, 106.0, 82.0, 118.0, 89.0, 73.0, 57.0, 114.0, 96.0, 66.0, 67.0, 62.0]}],\n",
       "                        {\"template\": {\"data\": {\"bar\": [{\"error_x\": {\"color\": \"#2a3f5f\"}, \"error_y\": {\"color\": \"#2a3f5f\"}, \"marker\": {\"line\": {\"color\": \"#E5ECF6\", \"width\": 0.5}}, \"type\": \"bar\"}], \"barpolar\": [{\"marker\": {\"line\": {\"color\": \"#E5ECF6\", \"width\": 0.5}}, \"type\": \"barpolar\"}], \"carpet\": [{\"aaxis\": {\"endlinecolor\": \"#2a3f5f\", \"gridcolor\": \"white\", \"linecolor\": \"white\", \"minorgridcolor\": \"white\", \"startlinecolor\": \"#2a3f5f\"}, \"baxis\": {\"endlinecolor\": \"#2a3f5f\", \"gridcolor\": \"white\", \"linecolor\": \"white\", \"minorgridcolor\": \"white\", \"startlinecolor\": \"#2a3f5f\"}, \"type\": \"carpet\"}], \"choropleth\": [{\"colorbar\": {\"outlinewidth\": 0, \"ticks\": \"\"}, \"type\": \"choropleth\"}], \"contour\": [{\"colorbar\": {\"outlinewidth\": 0, \"ticks\": \"\"}, \"colorscale\": [[0.0, \"#0d0887\"], [0.1111111111111111, \"#46039f\"], [0.2222222222222222, \"#7201a8\"], [0.3333333333333333, \"#9c179e\"], [0.4444444444444444, \"#bd3786\"], [0.5555555555555556, \"#d8576b\"], [0.6666666666666666, \"#ed7953\"], [0.7777777777777778, \"#fb9f3a\"], [0.8888888888888888, \"#fdca26\"], [1.0, \"#f0f921\"]], \"type\": \"contour\"}], \"contourcarpet\": [{\"colorbar\": {\"outlinewidth\": 0, \"ticks\": \"\"}, \"type\": \"contourcarpet\"}], \"heatmap\": [{\"colorbar\": {\"outlinewidth\": 0, \"ticks\": \"\"}, \"colorscale\": [[0.0, \"#0d0887\"], [0.1111111111111111, \"#46039f\"], [0.2222222222222222, \"#7201a8\"], [0.3333333333333333, \"#9c179e\"], [0.4444444444444444, \"#bd3786\"], [0.5555555555555556, \"#d8576b\"], [0.6666666666666666, \"#ed7953\"], [0.7777777777777778, \"#fb9f3a\"], [0.8888888888888888, \"#fdca26\"], [1.0, \"#f0f921\"]], \"type\": \"heatmap\"}], \"heatmapgl\": [{\"colorbar\": {\"outlinewidth\": 0, \"ticks\": \"\"}, \"colorscale\": [[0.0, \"#0d0887\"], [0.1111111111111111, \"#46039f\"], [0.2222222222222222, \"#7201a8\"], [0.3333333333333333, \"#9c179e\"], [0.4444444444444444, \"#bd3786\"], [0.5555555555555556, \"#d8576b\"], [0.6666666666666666, \"#ed7953\"], [0.7777777777777778, \"#fb9f3a\"], [0.8888888888888888, \"#fdca26\"], [1.0, \"#f0f921\"]], \"type\": \"heatmapgl\"}], \"histogram\": [{\"marker\": {\"colorbar\": {\"outlinewidth\": 0, \"ticks\": \"\"}}, \"type\": \"histogram\"}], \"histogram2d\": [{\"colorbar\": {\"outlinewidth\": 0, \"ticks\": \"\"}, \"colorscale\": [[0.0, \"#0d0887\"], [0.1111111111111111, \"#46039f\"], [0.2222222222222222, \"#7201a8\"], [0.3333333333333333, \"#9c179e\"], [0.4444444444444444, \"#bd3786\"], [0.5555555555555556, \"#d8576b\"], [0.6666666666666666, \"#ed7953\"], [0.7777777777777778, \"#fb9f3a\"], [0.8888888888888888, \"#fdca26\"], [1.0, \"#f0f921\"]], \"type\": \"histogram2d\"}], \"histogram2dcontour\": [{\"colorbar\": {\"outlinewidth\": 0, \"ticks\": \"\"}, \"colorscale\": [[0.0, \"#0d0887\"], [0.1111111111111111, \"#46039f\"], [0.2222222222222222, \"#7201a8\"], [0.3333333333333333, \"#9c179e\"], [0.4444444444444444, \"#bd3786\"], [0.5555555555555556, \"#d8576b\"], [0.6666666666666666, \"#ed7953\"], [0.7777777777777778, \"#fb9f3a\"], [0.8888888888888888, \"#fdca26\"], [1.0, \"#f0f921\"]], \"type\": \"histogram2dcontour\"}], \"mesh3d\": [{\"colorbar\": {\"outlinewidth\": 0, \"ticks\": \"\"}, \"type\": \"mesh3d\"}], \"parcoords\": [{\"line\": {\"colorbar\": {\"outlinewidth\": 0, \"ticks\": \"\"}}, \"type\": \"parcoords\"}], \"scatter\": [{\"marker\": {\"colorbar\": {\"outlinewidth\": 0, \"ticks\": \"\"}}, \"type\": \"scatter\"}], \"scatter3d\": [{\"line\": {\"colorbar\": {\"outlinewidth\": 0, \"ticks\": \"\"}}, \"marker\": {\"colorbar\": {\"outlinewidth\": 0, \"ticks\": \"\"}}, \"type\": \"scatter3d\"}], \"scattercarpet\": [{\"marker\": {\"colorbar\": {\"outlinewidth\": 0, \"ticks\": \"\"}}, \"type\": \"scattercarpet\"}], \"scattergeo\": [{\"marker\": {\"colorbar\": {\"outlinewidth\": 0, \"ticks\": \"\"}}, \"type\": \"scattergeo\"}], \"scattergl\": [{\"marker\": {\"colorbar\": {\"outlinewidth\": 0, \"ticks\": \"\"}}, \"type\": \"scattergl\"}], \"scattermapbox\": [{\"marker\": {\"colorbar\": {\"outlinewidth\": 0, \"ticks\": \"\"}}, \"type\": \"scattermapbox\"}], \"scatterpolar\": [{\"marker\": {\"colorbar\": {\"outlinewidth\": 0, \"ticks\": \"\"}}, \"type\": \"scatterpolar\"}], \"scatterpolargl\": [{\"marker\": {\"colorbar\": {\"outlinewidth\": 0, \"ticks\": \"\"}}, \"type\": \"scatterpolargl\"}], \"scatterternary\": [{\"marker\": {\"colorbar\": {\"outlinewidth\": 0, \"ticks\": \"\"}}, \"type\": \"scatterternary\"}], \"surface\": [{\"colorbar\": {\"outlinewidth\": 0, \"ticks\": \"\"}, \"colorscale\": [[0.0, \"#0d0887\"], [0.1111111111111111, \"#46039f\"], [0.2222222222222222, \"#7201a8\"], [0.3333333333333333, \"#9c179e\"], [0.4444444444444444, \"#bd3786\"], [0.5555555555555556, \"#d8576b\"], [0.6666666666666666, \"#ed7953\"], [0.7777777777777778, \"#fb9f3a\"], [0.8888888888888888, \"#fdca26\"], [1.0, \"#f0f921\"]], \"type\": \"surface\"}], \"table\": [{\"cells\": {\"fill\": {\"color\": \"#EBF0F8\"}, \"line\": {\"color\": \"white\"}}, \"header\": {\"fill\": {\"color\": \"#C8D4E3\"}, \"line\": {\"color\": \"white\"}}, \"type\": \"table\"}]}, \"layout\": {\"annotationdefaults\": {\"arrowcolor\": \"#2a3f5f\", \"arrowhead\": 0, \"arrowwidth\": 1}, \"colorscale\": {\"diverging\": [[0, \"#8e0152\"], [0.1, \"#c51b7d\"], [0.2, \"#de77ae\"], [0.3, \"#f1b6da\"], [0.4, \"#fde0ef\"], [0.5, \"#f7f7f7\"], [0.6, \"#e6f5d0\"], [0.7, \"#b8e186\"], [0.8, \"#7fbc41\"], [0.9, \"#4d9221\"], [1, \"#276419\"]], \"sequential\": [[0.0, \"#0d0887\"], [0.1111111111111111, \"#46039f\"], [0.2222222222222222, \"#7201a8\"], [0.3333333333333333, \"#9c179e\"], [0.4444444444444444, \"#bd3786\"], [0.5555555555555556, \"#d8576b\"], [0.6666666666666666, \"#ed7953\"], [0.7777777777777778, \"#fb9f3a\"], [0.8888888888888888, \"#fdca26\"], [1.0, \"#f0f921\"]], \"sequentialminus\": [[0.0, \"#0d0887\"], [0.1111111111111111, \"#46039f\"], [0.2222222222222222, \"#7201a8\"], [0.3333333333333333, \"#9c179e\"], [0.4444444444444444, \"#bd3786\"], [0.5555555555555556, \"#d8576b\"], [0.6666666666666666, \"#ed7953\"], [0.7777777777777778, \"#fb9f3a\"], [0.8888888888888888, \"#fdca26\"], [1.0, \"#f0f921\"]]}, \"colorway\": [\"#636efa\", \"#EF553B\", \"#00cc96\", \"#ab63fa\", \"#FFA15A\", \"#19d3f3\", \"#FF6692\", \"#B6E880\", \"#FF97FF\", \"#FECB52\"], \"font\": {\"color\": \"#2a3f5f\"}, \"geo\": {\"bgcolor\": \"white\", \"lakecolor\": \"white\", \"landcolor\": \"#E5ECF6\", \"showlakes\": true, \"showland\": true, \"subunitcolor\": \"white\"}, \"hoverlabel\": {\"align\": \"left\"}, \"hovermode\": \"closest\", \"mapbox\": {\"style\": \"light\"}, \"paper_bgcolor\": \"white\", \"plot_bgcolor\": \"#E5ECF6\", \"polar\": {\"angularaxis\": {\"gridcolor\": \"white\", \"linecolor\": \"white\", \"ticks\": \"\"}, \"bgcolor\": \"#E5ECF6\", \"radialaxis\": {\"gridcolor\": \"white\", \"linecolor\": \"white\", \"ticks\": \"\"}}, \"scene\": {\"xaxis\": {\"backgroundcolor\": \"#E5ECF6\", \"gridcolor\": \"white\", \"gridwidth\": 2, \"linecolor\": \"white\", \"showbackground\": true, \"ticks\": \"\", \"zerolinecolor\": \"white\"}, \"yaxis\": {\"backgroundcolor\": \"#E5ECF6\", \"gridcolor\": \"white\", \"gridwidth\": 2, \"linecolor\": \"white\", \"showbackground\": true, \"ticks\": \"\", \"zerolinecolor\": \"white\"}, \"zaxis\": {\"backgroundcolor\": \"#E5ECF6\", \"gridcolor\": \"white\", \"gridwidth\": 2, \"linecolor\": \"white\", \"showbackground\": true, \"ticks\": \"\", \"zerolinecolor\": \"white\"}}, \"shapedefaults\": {\"line\": {\"color\": \"#2a3f5f\"}}, \"ternary\": {\"aaxis\": {\"gridcolor\": \"white\", \"linecolor\": \"white\", \"ticks\": \"\"}, \"baxis\": {\"gridcolor\": \"white\", \"linecolor\": \"white\", \"ticks\": \"\"}, \"bgcolor\": \"#E5ECF6\", \"caxis\": {\"gridcolor\": \"white\", \"linecolor\": \"white\", \"ticks\": \"\"}}, \"title\": {\"x\": 0.05}, \"xaxis\": {\"automargin\": true, \"gridcolor\": \"white\", \"linecolor\": \"white\", \"ticks\": \"\", \"zerolinecolor\": \"white\", \"zerolinewidth\": 2}, \"yaxis\": {\"automargin\": true, \"gridcolor\": \"white\", \"linecolor\": \"white\", \"ticks\": \"\", \"zerolinecolor\": \"white\", \"zerolinewidth\": 2}}}},\n",
       "                        {\"responsive\": true}\n",
       "                    ).then(function(){\n",
       "                            \n",
       "var gd = document.getElementById('7fb31410-81a9-4856-8a91-6bd73c8d196d');\n",
       "var x = new MutationObserver(function (mutations, observer) {{\n",
       "        var display = window.getComputedStyle(gd).display;\n",
       "        if (!display || display === 'none') {{\n",
       "            console.log([gd, 'removed!']);\n",
       "            Plotly.purge(gd);\n",
       "            observer.disconnect();\n",
       "        }}\n",
       "}});\n",
       "\n",
       "// Listen for the removal of the full notebook cells\n",
       "var notebookContainer = gd.closest('#notebook-container');\n",
       "if (notebookContainer) {{\n",
       "    x.observe(notebookContainer, {childList: true});\n",
       "}}\n",
       "\n",
       "// Listen for the clearing of the current output cell\n",
       "var outputEl = gd.closest('.output');\n",
       "if (outputEl) {{\n",
       "    x.observe(outputEl, {childList: true});\n",
       "}}\n",
       "\n",
       "                        })\n",
       "                };\n",
       "                });\n",
       "            </script>\n",
       "        </div>"
      ]
     },
     "metadata": {
      "tags": []
     },
     "output_type": "display_data"
    }
   ],
   "source": [
    "fig = go.Figure(data=[go.Scatter3d(x= arr_n, y = arr_k, z = synchr_time, mode='markers')])\n",
    "fig.show()"
   ]
  },
  {
   "cell_type": "code",
   "execution_count": 0,
   "metadata": {
    "colab": {},
    "colab_type": "code",
    "id": "hFlHlEu3G6No",
    "outputId": "82937a40-4eda-4f76-801c-b1452ee266e0"
   },
   "outputs": [
    {
     "data": {
      "text/plain": [
       "4"
      ]
     },
     "execution_count": 1,
     "metadata": {
      "tags": []
     },
     "output_type": "execute_result"
    }
   ],
   "source": [
    "import psutil\n",
    "# logical=True counts threads, but we are interested in cores\n",
    "psutil.cpu_count(logical=False)"
   ]
  },
  {
   "cell_type": "code",
   "execution_count": 0,
   "metadata": {
    "colab": {},
    "colab_type": "code",
    "id": "dWxgJAjnG6Nq"
   },
   "outputs": [],
   "source": [
    "# make sure to always use multiprocess\n",
    "from multiprocess import Pool\n",
    "# start your parallel workers at the beginning of your script\n",
    "pool = Pool(4)\n",
    "\n",
    "def your_function(a):\n",
    "    print('Upi!', a)\n",
    "    return a\n",
    "    \n",
    "def another_function(a):\n",
    "    print('Wow!', a*a)\n",
    "    return a*a\n",
    "\n",
    "# execute a computation(s) in parallel\n",
    "pool.map(your_function, [0, 2, 4])\n",
    "pool.map(another_function, [1, 3, 5])\n",
    "\n",
    "# turn off your parallel workers at the end of your script\n",
    "pool.close()"
   ]
  },
  {
   "cell_type": "code",
   "execution_count": 0,
   "metadata": {
    "colab": {},
    "colab_type": "code",
    "id": "fvLZnRgxG6Nt",
    "outputId": "53d23658-fff0-4863-e233-39d6e0e555c1"
   },
   "outputs": [
    {
     "data": {
      "text/plain": [
       "[1, 9, 25]"
      ]
     },
     "execution_count": 14,
     "metadata": {
      "tags": []
     },
     "output_type": "execute_result"
    }
   ],
   "source": [
    "result2"
   ]
  },
  {
   "cell_type": "code",
   "execution_count": 0,
   "metadata": {
    "colab": {},
    "colab_type": "code",
    "collapsed": true,
    "id": "yEKNEjwIG6Ny"
   },
   "outputs": [],
   "source": [
    "from multiprocessing import Pool\n",
    "pool = Pool(psutil.cpu_count(logical=False))\n",
    "pool.close()"
   ]
  },
  {
   "cell_type": "code",
   "execution_count": 0,
   "metadata": {
    "colab": {},
    "colab_type": "code",
    "id": "84mQCue_G6N1",
    "outputId": "073fd93d-34da-416c-a88c-b33f1ff3766f"
   },
   "outputs": [
    {
     "data": {
      "image/png": "[encoded data removed]",
      "text/plain": [
       "<matplotlib.figure.Figure at 0x13d0cac8>"
      ]
     },
     "metadata": {
      "tags": []
     },
     "output_type": "display_data"
    }
   ],
   "source": [
    "import matplotlib.pyplot as plt\n",
    "%matplotlib inline\n",
    "\n",
    "fig, ax = plt.subplots()\n",
    "ax.scatter(arr_n, arr_k, s = synchr_time, alpha=1)\n",
    "\n",
    "ax.set_xlabel(r'$n$', fontsize=15)\n",
    "ax.set_ylabel(r'$k$', fontsize=15)\n",
    "#ax.set_title('Volume and percent change')\n",
    "\n",
    "ax.grid(True)\n",
    "fig.tight_layout()\n",
    "\n",
    "plt.show()\n",
    "\n",
    "#plt.title('K = 3, L = 3, N = 10000')"
   ]
  },
  {
   "cell_type": "markdown",
   "metadata": {
    "colab_type": "text",
    "id": "u1rYh7sCG6N4"
   },
   "source": [
    "## То же самое для других параметров"
   ]
  },
  {
   "cell_type": "markdown",
   "metadata": {
    "colab_type": "text",
    "id": "3s8zt2pGG6N4"
   },
   "source": [
    "Важные массивы: <br>\n",
    "timing - время на итерацию <br>\n",
    "synchr_time - число итераций, за которе машины синхронизуются <br>\n",
    "trajectories - зависимость части ошибочных бит от номера итерации. Здесь он есть!"
   ]
  },
  {
   "cell_type": "code",
   "execution_count": 0,
   "metadata": {
    "colab": {},
    "colab_type": "code",
    "collapsed": true,
    "id": "vP3GQAVCG6N5"
   },
   "outputs": [],
   "source": [
    "from copy import deepcopy\n",
    "synchr_itt2 = deepcopy(synchr_itt)"
   ]
  },
  {
   "cell_type": "code",
   "execution_count": 0,
   "metadata": {
    "colab": {},
    "colab_type": "code",
    "id": "U3vPFQyXG6N7",
    "outputId": "6e9f43ea-32e1-46b4-e4ed-4f159a2470dd"
   },
   "outputs": [
    {
     "name": "stderr",
     "output_type": "stream",
     "text": [
      "[                                                                        ]   0%\r"
     ]
    },
    {
     "name": "stdout",
     "output_type": "stream",
     "text": [
      "(3, 3, 10000)\n",
      "(3, 3, 10000)\n"
     ]
    },
    {
     "name": "stderr",
     "output_type": "stream",
     "text": [
      "[=============                                                           ]  19%\r"
     ]
    }
   ],
   "source": [
    "l = 3\n",
    "k = 3\n",
    "n = 10000\n",
    "AliceKey2 = []\n",
    "BobKey2 = []\n",
    "    \n",
    "for i in range(n*k):\n",
    "    AliceKey2.append(random.randrange(-2, 3))\n",
    "    BobKey2.append(random.randrange(-2, 3))\n",
    "    \n",
    "Alice_TPM2 = TPM(l, k, n)\n",
    "Bob_TPM2 = TPM(l, k, n)\n",
    "\n",
    "import progressbar\n",
    "from time import sleep, time\n",
    "\n",
    "timing2 = []\n",
    "synchr_itt2 = []\n",
    "trajectories2 = []\n",
    "for s in range(500):\n",
    "    s_itt2 = np.inf\n",
    "    \n",
    "    Alice_TPM2.weights_initialization(AliceKey2)\n",
    "    Bob_TPM2.weights_initialization(BobKey2)\n",
    "    difference2 = [count_diff(AliceKey2, BobKey2)]\n",
    "    steps2 = [0]\n",
    "    \n",
    "    for i in range(600):\n",
    "        start_time2 = time()\n",
    "        input_random2 = np.zeros(n*k)\n",
    "        for x in range(n*k):\n",
    "            z = random.randrange(-1, 1)\n",
    "            if z == 0: z = 1\n",
    "            input_random2[x] = z\n",
    "\n",
    "        Alice_TPM2.calculate_output(input_random2)\n",
    "        Bob_TPM2.calculate_output(input_random2)\n",
    "        if Alice_TPM2.output == Bob_TPM2.output:\n",
    "            Alice_TPM2.update()\n",
    "            Bob_TPM2.update()\n",
    "        steps2.append(i)\n",
    "        c_diff2 = count_diff(Alice_TPM2.get_weights(), Bob_TPM2.get_weights())\n",
    "        difference2.append(c_diff2)\n",
    "        if (c_diff2 == 0) and (s_itt2 == np.inf):\n",
    "            s_itt2 = i\n",
    "        stop_time = time()\n",
    "        timing2.append(stop_time - start_time)\n",
    "        if s_itt2 < np.inf: break\n",
    "    trajectories2.append(difference2)\n",
    "    synchr_itt2.append(s_itt2)\n",
    "    bar.update(s + 1)\n",
    "\n",
    "print(np.mean(timing))"
   ]
  },
  {
   "cell_type": "code",
   "execution_count": 0,
   "metadata": {
    "colab": {},
    "colab_type": "code",
    "id": "uK6qcsHRG6N8",
    "outputId": "e423deb2-7d3d-4231-92e2-e069269e44bf"
   },
   "outputs": [
    {
     "data": {
      "text/plain": [
       "Text(0.5,1,u'K = 3, L = 3, N = 10000')"
      ]
     },
     "execution_count": 47,
     "metadata": {
      "tags": []
     },
     "output_type": "execute_result"
    },
    {
     "data": {
      "image/png": "[encoded data removed]",
      "text/plain": [
       "<matplotlib.figure.Figure at 0xc958048>"
      ]
     },
     "metadata": {
      "tags": []
     },
     "output_type": "display_data"
    }
   ],
   "source": [
    "import matplotlib.pyplot as plt\n",
    "%matplotlib inline\n",
    "for i in range(2):\n",
    "    plt.plot(trajectories2[i])\n",
    "plt.xlabel('number of iterations')\n",
    "plt.ylabel('wrong bits, %')\n",
    "plt.title('K = 3, L = 3, N = 10000')\n",
    "#plt.ylim(0, 0.12)\n",
    "#plt.xlim(0, 300)"
   ]
  },
  {
   "cell_type": "code",
   "execution_count": 0,
   "metadata": {
    "colab": {},
    "colab_type": "code",
    "id": "BT0-x8wHG6N-",
    "outputId": "7a2cdbb7-9b90-4df0-accc-89b87ec2d190"
   },
   "outputs": [
    {
     "data": {
      "text/plain": [
       "(array([  6.,  20.,  25.,  28.,  16.,  25.,  17.,  18.,  13.,   2.,   6.,\n",
       "          3.,   4.,   3.,   5.,   2.,   0.,   2.,   2.,   1.,   0.,   0.,\n",
       "          1.,   0.,   1.]),\n",
       " array([ 143.  ,  158.76,  174.52,  190.28,  206.04,  221.8 ,  237.56,\n",
       "         253.32,  269.08,  284.84,  300.6 ,  316.36,  332.12,  347.88,\n",
       "         363.64,  379.4 ,  395.16,  410.92,  426.68,  442.44,  458.2 ,\n",
       "         473.96,  489.72,  505.48,  521.24,  537.  ]),\n",
       " <a list of 25 Patch objects>)"
      ]
     },
     "execution_count": 40,
     "metadata": {
      "tags": []
     },
     "output_type": "execute_result"
    },
    {
     "data": {
      "image/png": "[encoded data removed]",
      "text/plain": [
       "<matplotlib.figure.Figure at 0xc236cc0>"
      ]
     },
     "metadata": {
      "tags": []
     },
     "output_type": "display_data"
    }
   ],
   "source": [
    "plt.title('K = 3, L = 3, N = 10000')\n",
    "plt.xlabel('number of iterations')\n",
    "plt.ylabel('P')\n",
    "plt.hist(synchr_itt, bins = 25)"
   ]
  },
  {
   "cell_type": "code",
   "execution_count": 0,
   "metadata": {
    "colab": {},
    "colab_type": "code",
    "id": "pkav0qlRG6OA",
    "outputId": "0a3b8482-e08f-40fd-eea7-96a872845ec9"
   },
   "outputs": [
    {
     "data": {
      "text/plain": [
       "Text(0.5,1,u'K = 3, L = 3, N = 10000')"
      ]
     },
     "execution_count": 33,
     "metadata": {
      "tags": []
     },
     "output_type": "execute_result"
    },
    {
     "data": {
      "image/png": "[encoded data removed]",
      "text/plain": [
       "<matplotlib.figure.Figure at 0xa212198>"
      ]
     },
     "metadata": {
      "tags": []
     },
     "output_type": "display_data"
    }
   ],
   "source": [
    "import matplotlib.pyplot as plt\n",
    "%matplotlib inline\n",
    "for i in range(10):\n",
    "    plt.plot(trajectories[i])\n",
    "plt.xlabel('number of iterations')\n",
    "plt.ylabel('wrong bits, %')\n",
    "plt.title('K = 3, L = 3, N = 10000')\n",
    "#plt.ylim(0, 0.12)\n",
    "#plt.xlim(0, 300)"
   ]
  }
 ],
 "metadata": {
  "colab": {
   "name": "Neural Crypthography for Vadim.ipynb",
   "provenance": []
  },
  "kernelspec": {
   "display_name": "Python 3",
   "language": "python",
   "name": "python3"
  },
  "language_info": {
   "codemirror_mode": {
    "name": "ipython",
    "version": 3
   },
   "file_extension": ".py",
   "mimetype": "text/x-python",
   "name": "python",
   "nbconvert_exporter": "python",
   "pygments_lexer": "ipython3",
   "version": "3.7.3"
  }
 },
 "nbformat": 4,
 "nbformat_minor": 1
}
